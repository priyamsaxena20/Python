{
  "cells": [
    {
      "cell_type": "markdown",
      "metadata": {
        "id": "ZMU05fUuM4d-"
      },
      "source": [
        "# File_Exceptional_Memory_Module_6"
      ]
    },
    {
      "cell_type": "markdown",
      "metadata": {
        "id": "iuS4JHpuM6B5"
      },
      "source": [
        "#Theory Questions"
      ]
    },
    {
      "cell_type": "markdown",
      "metadata": {
        "id": "ORjIMryvmAS3"
      },
      "source": [
        "Q1  What is the difference between interpreted and compiled languages?\n",
        "-->\n",
        "\n",
        "\n",
        "Compiled: The entire program is converted into machine code (a language the computer understands directly) in one go. This creates an executable file that runs quickly.\n",
        "\n",
        "Interpreted: The program is read and executed line by line, on the fly. This avoids a separate compilation step, making development faster, but execution slower.\n"
      ]
    },
    {
      "cell_type": "markdown",
      "metadata": {
        "id": "asyeyI8UmCxA"
      },
      "source": [
        "Q2 What is exception handling in Python?\n",
        "--> exception handling is a mechanism that allows you to gracefully manage errors that occur during the execution of your code. Instead of our program crashing when an error happens, we can \"catch\" the error and take appropriate actions.\n",
        "The try block: This is where you place the code that might raise an exception.\n",
        "The except block: This is where we specify how to handle specific exceptions.\n",
        "Optional additions are else blocks, that run if no exceptions occur, and finally blocks that always run, regardless of exceptions."
      ]
    },
    {
      "cell_type": "markdown",
      "metadata": {
        "id": "avRtbT2vmC4x"
      },
      "source": [
        "Q3  What is the purpose of the finally block in exception handling?\n",
        "\n",
        "\n",
        "\n",
        "-->The finally block in  exception handling guarantees that a section of code will execute regardless of whether an exception was raised and handled within a try-except block."
      ]
    },
    {
      "cell_type": "markdown",
      "metadata": {
        "id": "7Jf-5x9emC7L"
      },
      "source": [
        "Q4 What is logging in Python?\n",
        "\n",
        "\n",
        "-->logging module is a built-in tool that provides a flexible and powerful way to record events, messages, and errors that occur during the execution of a program. Instead of relying solely on print() statements, which can become cumbersome and difficult to manage in larger applications, logging offers a structured approach to recording information. It allows developers to categorize log messages based on severity levels (like DEBUG, INFO, WARNING, ERROR, and CRITICAL), which enables filtering and prioritizing information.\n",
        "\n"
      ]
    },
    {
      "cell_type": "markdown",
      "metadata": {
        "id": "oHUKunfGmC-E"
      },
      "source": [
        "Q5 What is the significance of the __del__ method in Python?\n",
        "\n",
        "-->\n",
        "The __del__ method often referred to as a \"destructor,\" is a special method that is called when an object is about to be garbage collected. Its significance lies in its intended purpose of performing cleanup operations before an object is destroyed. However, its usage is generally discouraged due to its unpredictable behavior and potential for causing issues."
      ]
    },
    {
      "cell_type": "markdown",
      "metadata": {
        "id": "QpWC2W93mDA8"
      },
      "source": [
        "Q6 What is the difference between import and from ... import in Python?\n",
        "\n",
        "-->\n",
        "import brings in the whole toolbox, and we use the toolbox name to get what you need.\n",
        "\n",
        "from import brings in only the specific tools we want, and you can use them directly."
      ]
    },
    {
      "cell_type": "markdown",
      "metadata": {
        "id": "KLrNY0bDmDD7"
      },
      "source": [
        "Q7 How can you handle multiple exceptions in Python?\n",
        "-->\n",
        "\n",
        "Python offers several ways to handle multiple exceptions within a try-except block: you can catch multiple exception types in a single except clause by grouping them in a tuple, allowing for shared error-handling logic; use separate except blocks for each exception type to provide specific handling for each; or catch exceptions using a base class to handle a group of related exceptions, ensuring more precise error management. It's generally recommended to catch specific exceptions rather than using a broad except Exception: clause, and the order of except blocks matters, as Python checks them sequentially. Exception groups, added in python 3.11, allow for the handling of multiple exceptions that occur at the same time."
      ]
    },
    {
      "cell_type": "markdown",
      "metadata": {
        "id": "LvB4_8XpmDGs"
      },
      "source": [
        "Q8 What is the purpose of the with statement when handling files in Python?\n",
        "\n",
        "-->The with statement in Python, when used with file handling, serves the crucial purpose of ensuring that resources, specifically the file, are properly managed and closed, even if errors occur. It creates what's called a \"context,\" where the file is automatically opened when the with block begins and automatically closed when the block ends. This eliminates the need for explicit file.close() calls, preventing resource leaks and potential data corruption."
      ]
    },
    {
      "cell_type": "markdown",
      "metadata": {
        "id": "hgh7dQNJmDJW"
      },
      "source": [
        "Q9  What is the difference between multithreading and multiprocessing?\n",
        "\n",
        "--?Multithreading and multiprocessing offer distinct approaches to concurrency. Multithreading creates threads within a single process, sharing memory, ideal for I/O-bound tasks, but limited by the GIL for CPU-bound tasks. Multiprocessing spawns separate processes, each with its own memory, enabling true parallelism for CPU-bound tasks. Threads are lighter, but processes fully leverage multiple CPU cores. Thus, multithreading achieves concurrency within a process, while multiprocessing distributes tasks across processes for parallel execution, offering performance advantages for different task types."
      ]
    },
    {
      "cell_type": "markdown",
      "metadata": {
        "id": "UD_wZwG7mDMo"
      },
      "source": [
        "Q10  What are the advantages of using logging in a program?\n",
        "\n",
        "\n",
        "-->Logging in a program offers several key advantages that enhance development and maintenance. Primarily, it provides a structured method for recording events and errors, facilitating debugging and troubleshooting by offering detailed insights into program execution."
      ]
    },
    {
      "cell_type": "markdown",
      "metadata": {
        "id": "GoqsQik8mDPN"
      },
      "source": [
        "Q11 What is memory management in Python?\n",
        "\n",
        "-->Python's memory management is a sophisticated process that largely automates the allocation and deallocation of memory, simplifying the developer's task. Python utilizes a private heap to store all objects and data structures, and this heap is managed by the Python memory manager. 2  This manager employs a combination of techniques, most notably reference counting and garbage collection, to ensure efficient memory utilization"
      ]
    },
    {
      "cell_type": "markdown",
      "metadata": {
        "id": "HXnTkGLGmDRf"
      },
      "source": [
        "Q12 What are the basic steps involved in exception handling in Python?\n",
        "\n",
        "-->Exception handling in involves several basic steps to gracefully manage errors during program execution. First, the code that might raise an exception is placed within a try block. If an exception occurs within this block, the normal flow of execution is interrupted. Next, one or more except blocks are used to specify how to handle specific exception types. When an exception is raised, Python searches for a matching except block; if found, the code within that block is executed. Optionally, an else block can be included, which executes if no exceptions occur within the try block. Finally, a finally block can be added to ensure that specific code, such as closing files or releasing resources, is always executed, regardless of whether an exception was raised or handled. These steps collectively provide a structured way to handle errors, preventing program crashes and ensuring robust application behavior."
      ]
    },
    {
      "cell_type": "markdown",
      "metadata": {
        "id": "kYJ5PYp6mDT5"
      },
      "source": [
        "Q13 Why is memory management important in Python?\n",
        "\n",
        "-->Memory management is crucial in Python for several reasons, primarily to ensure efficient and stable program execution. 1  Effective memory management prevents memory leaks, where unused memory is not released, leading to performance degradation and potential crashes. By automatically allocating and deallocating memory, Python simplifies development, allowing programmers to focus on logic rather than manual memory control"
      ]
    },
    {
      "cell_type": "markdown",
      "metadata": {
        "id": "1uvJwY_imDXH"
      },
      "source": [
        "Q14  What is the role of try and except in exception handling?\n",
        "\n",
        "-->exception handling, the try and except blocks work in tandem to manage errors gracefully. The try block encloses the section of code that might potentially raise an exception. Its role is to monitor the execution of this code and detect any errors that occur. When an exception is raised within the try block, the normal flow of the program is interrupted. The except block, or blocks, then come into play, defining how to handle specific types of exceptions. Each except block specifies an exception type, and if a matching exception is raised in the try block, the code within that except block is executed. This allows the program to respond to errors without crashing, providing a mechanism to catch and handle issues, ensuring the program can continue its operation or terminate in a controlled manner. Essentially, try identifies the risky code, and except provides the means to recover from potential errors."
      ]
    },
    {
      "cell_type": "markdown",
      "metadata": {
        "id": "l7iInFtImDcA"
      },
      "source": [
        "Q15 How does Python's garbage collection system work?\n",
        "\n",
        "--> garbage collection system employs a combination of reference counting and a cyclic garbage collector to manage memory. Reference counting is the primary mechanism, where each object maintains a count of the number of references pointing to it; when this count reaches zero, the object's memory is immediately reclaimed"
      ]
    },
    {
      "cell_type": "markdown",
      "metadata": {
        "id": "lujc_f5PtFsQ"
      },
      "source": [
        "Q16 What is the purpose of the else block in exception handling?\n",
        "\n",
        "-->The else block in Python's exception handling serves to execute code when no exceptions are raised within the corresponding try block. Its purpose is to separate the code that might raise an exception from the code that should only run if the try block completes successfully. This distinction enhances code clarity and readability by clearly delineating the normal execution path from the exception-handling logic. By placing code that depends on the successful completion of the try block within the else block, developers can ensure that this code is not executed if an exception occurs. This helps in maintaining the logical flow of the program and preventing unintended side effects that might arise from executing code meant for successful operations in error scenarios. Essentially, the else block provides a clean way to handle the \"no exception\" case, making the exception handling more precise."
      ]
    },
    {
      "cell_type": "markdown",
      "metadata": {
        "id": "YpoNKrrUtG0F"
      },
      "source": [
        "Q17 What are the common logging levels in Python?\n",
        "\n",
        "\n",
        "-->Python's logging module defines several standard logging levels, each representing a different severity of event. These levels, in increasing order of severity, are: DEBUG, INFO, WARNING, ERROR, and CRITICAL. 1  The DEBUG level is used for detailed information, typically useful for diagnosing problems during development. 2  The INFO level provides general information about the program's execution, such as successful operations or routine events. The WARNING level indicates potential issues or unexpected events that might not cause immediate problems but should be investigated."
      ]
    },
    {
      "cell_type": "markdown",
      "metadata": {
        "id": "S2qL33y_tHU7"
      },
      "source": [
        "Q18 What is the difference between os.fork() and multiprocessing in Python?\n",
        "\n",
        "The os.fork() function and the multiprocessing module in Python both enable the creation of new processes, but they differ significantly in their functionality and portability. os.fork() is a system call that creates a new process by duplicating the existing one, resulting in an exact copy of the parent process's memory space. This function is only available on Unix-like systems and can lead to platform-specific issues. In contrast, the multiprocessing module provides a higher-level, cross-platform interface for creating and managing processes. It abstracts away the platform-specific details, making it compatible with both Unix-like systems and Windows. multiprocessing also offers features like process pools, inter-process communication mechanisms (queues, pipes), and shared memory, which are not available with os.fork(). While os.fork() is a low-level system call that offers direct control over process creation, multiprocessing provides a more robust and portable solution for parallel processing"
      ]
    },
    {
      "cell_type": "markdown",
      "metadata": {
        "id": "eka-OZrXtHSP"
      },
      "source": [
        "Q19 What is the importance of closing a file in Python?\n",
        "\n",
        "-->Closing a file in Python is crucial for several reasons, primarily to ensure data integrity and prevent resource leaks. When a file is opened, the operating system allocates resources to it, and data might be buffered in memory rather than immediately written to disk. Closing the file flushes these buffers, guaranteeing that all data is written and saved correctly. Failing to close a file can lead to data loss or corruption, especially if the program terminates unexpectedly. Additionally, keeping files open unnecessarily consumes system resources, such as file handles, which are limited. Exceeding these limits can prevent other programs from opening files, leading to system instability"
      ]
    },
    {
      "cell_type": "markdown",
      "metadata": {
        "id": "n7NOOzmUva99"
      },
      "source": [
        "Q20 What is the difference between file.read() and file.readline() in Python?\n",
        "\n",
        "--> both file.read() and file.readline() are used to read data from a file, but they differ in how much data they retrieve and how they format it. The file.read() method reads the entire contents of a file as a single string. If a size argument is provided, it reads only that many bytes. This method is efficient for small files but can consume excessive memory for large files, as it loads the entire file into memory at once. On the other hand, file.readline() reads a single line from the file, including the newline character at the end. Each subsequent call to readline() will read the next line in the file. This method is more memory-efficient for large files, as it processes the file line by line, rather than loading the entire file into memory. Therefore, read() retrieves the whole file as a string, while readline() retrieves a single line as a string."
      ]
    },
    {
      "cell_type": "markdown",
      "metadata": {
        "id": "rFb9Cly-vawP"
      },
      "source": [
        "Q21 What is the logging module in Python used for?\n",
        "\n",
        "-->The logging module in Python is used for tracking events that occur during the execution of a program, providing a flexible and powerful way to record information. Instead of relying on simple print() statements, which can become unwieldy in larger applications, logging offers a structured approach to recording messages. It allows developers to categorize messages by severity levels, such as DEBUG, INFO, WARNING, ERROR, and CRITICAL, enabling filtering and prioritization of information. 2  This is particularly useful for debugging, monitoring, and troubleshooting applications, especially in production environments. 3  Additionally, the logging module supports various handlers, allowing log messages to be directed to different destinations, such as console, files, or network services. 4  This makes it easier to manage and analyze log data, providing valuable insights into the program's behavior and performance. In essence, the logging module offers a robust framework for recording and managing events, facilitating better application maintenance and diagnostics"
      ]
    },
    {
      "cell_type": "markdown",
      "metadata": {
        "id": "CXcR5u9OvalY"
      },
      "source": [
        "Q22 What is the os module in Python used for in file handling?\n",
        "\n",
        "\n",
        "-->The os module in Python provides a wide range of functions for interacting with the operating system, and it plays a significant role in file handling by offering tools to manipulate files and directories. Specifically, it allows developers to perform tasks such as creating, deleting, renaming, and moving files and directories. 1  The os module also provides functions to check file existence, permissions, and metadata, such as file size and modification time. Furthermore, it enables the creation and navigation of directory structures, allowing programs to work with file paths in a platform-independent manner. 2  Additionally, the os module offers functions to execute system commands, which can be useful for advanced file operations or interacting with external programs."
      ]
    },
    {
      "cell_type": "markdown",
      "metadata": {
        "id": "KELUjMB_vaaI"
      },
      "source": [
        "Q23  What are the challenges associated with memory management in Python?\n",
        "\n",
        "-->Memory management while largely automated, presents several challenges.One significant challenge is dealing with circular references, where objects refer to each other, preventing their reference counts from reaching zero, which necessitates the cyclic garbage collector. 2  This process, while effective, adds overhead and can lead to unpredictable pauses. Another challenge arises from the Global Interpreter Lock (GIL), which limits true parallelism in multithreaded Python programs, potentially impacting the performance of memory-intensive applications. 3  Memory fragmentation is also a concern, as repeated allocation and deallocation of memory can lead to scattered free memory blocks, making it difficult to allocate large contiguous blocks. 4  Additionally, profiling and debugging memory-related issues can be complex, requiring specialized tools and techniques. Finally, managing memory in large, long-running applications demands careful attention to avoid memory leaks and ensure optimal performance."
      ]
    },
    {
      "cell_type": "markdown",
      "metadata": {
        "id": "lv_oysdVvaKb"
      },
      "source": [
        "Q24 How do you raise an exception manually in Python?\n",
        "\n",
        "\n",
        "-->we can manually raise an exception using the raise keyword. This allows you to signal that an error or exceptional condition has occurred within your code. To raise an exception, you typically create an instance of an exception class and pass it as an argument to the raise keyword. For example, raise ValueError(\"Invalid input\") will raise a ValueError with the specified error message. You can also raise built-in exceptions or define your own custom exception classes by inheriting from the base Exception class or one of its subclasses. When you raise an exception, the normal flow of execution is interrupted, and Python searches for an appropriate except block to handle it. If no matching except block is found, the exception propagates up the call stack, potentially terminating the program. Raising exceptions manually is useful for enforcing preconditions, validating input, or signaling unexpected conditions that require special handling."
      ]
    },
    {
      "cell_type": "markdown",
      "metadata": {
        "id": "uPv2QswpwmWq"
      },
      "source": [
        "Q25 Why is it important to use multithreading in certain applications?\n",
        "\n",
        "\n",
        "-->Multithreading is important in certain applications because it allows for concurrent execution of tasks within a single process, improving overall performance and responsiveness. This is particularly beneficial for I/O-bound applications, where the program spends a significant amount of time waiting for external operations, such as network requests or file I/O, to complete. 2  By utilizing multiple threads, the application can continue processing other tasks while waiting for these operations, preventing the program from becoming unresponsive. Multithreading can also enhance user experience by allowing background tasks to run without blocking the main thread, ensuring that the user interface remains responsive"
      ]
    },
    {
      "cell_type": "markdown",
      "metadata": {
        "id": "YBqIAz_l8BfU"
      },
      "source": [
        "#Practical Questions"
      ]
    },
    {
      "cell_type": "code",
      "execution_count": null,
      "metadata": {
        "id": "_dNQFwIgAXYN"
      },
      "outputs": [],
      "source": [
        "#Q1 How can you open a file for writing in Python and write a string to it?\n",
        "\n",
        "with open(\"my_file.txt\", \"w\") as file:\n",
        "    file.write(\"Hello, world! I Am Priyam\")"
      ]
    },
    {
      "cell_type": "code",
      "execution_count": null,
      "metadata": {
        "colab": {
          "base_uri": "https://localhost:8080/"
        },
        "id": "PjgDoQI4AvYv",
        "outputId": "5fe2a3a7-f75e-4780-e09c-5c5b2877aad4"
      },
      "outputs": [
        {
          "name": "stdout",
          "output_type": "stream",
          "text": [
            "Hello, world! I Am Priyam"
          ]
        }
      ],
      "source": [
        "#Q2  Write a Python program to read the contents of a file and print each line\n",
        "\n",
        "def read_and_print_lines(filename):\n",
        "    \"\"\"Reads a file and prints each line.\"\"\"\n",
        "    try:\n",
        "        with open(filename, 'r') as file:\n",
        "            for line in file:\n",
        "                print(line, end='')\n",
        "    except FileNotFoundError:\n",
        "        print(f\"Error: File '{filename}' not found.\")\n",
        "    except Exception as e:\n",
        "        print(f\"An error occurred: {e}\")\n",
        "\n",
        "filename = \"my_file.txt\"\n",
        "read_and_print_lines(filename)"
      ]
    },
    {
      "cell_type": "code",
      "execution_count": null,
      "metadata": {
        "colab": {
          "base_uri": "https://localhost:8080/"
        },
        "id": "CTPSImF_BiHc",
        "outputId": "0c92b8fe-be81-4638-9f87-4d7a539902fa"
      },
      "outputs": [
        {
          "name": "stdout",
          "output_type": "stream",
          "text": [
            "Error: The file 'non_existent_file.txt' was not found.\n",
            "Would you like to create an empty file with that name? (yes/no): no\n",
            "Please ensure the file exists or provide a valid filename.\n",
            "This is a test file."
          ]
        }
      ],
      "source": [
        "#Q3  How would you handle a case where the file doesn't exist while trying to open it for reading?\n",
        "\n",
        "def read_file_safely(filename):\n",
        "    \"\"\"\n",
        "    Attempts to read a file and handles the case where it doesn't exist.\n",
        "    \"\"\"\n",
        "    try:\n",
        "        with open(filename, 'r') as file:\n",
        "            for line in file:\n",
        "                print(line, end='')\n",
        "    except FileNotFoundError:\n",
        "        print(f\"Error: The file '{filename}' was not found.\")\n",
        "        choice = input(\"Would you like to create an empty file with that name? (yes/no): \").lower()\n",
        "        if choice == \"yes\":\n",
        "            try:\n",
        "                with open(filename, 'w') as new_file:\n",
        "                    print(f\"Created empty file: {filename}\")\n",
        "            except Exception as e:\n",
        "                print(f\"Error creating file: {e}\")\n",
        "        else:\n",
        "            print(\"Please ensure the file exists or provide a valid filename.\")\n",
        "    except Exception as e:\n",
        "        print(f\"An unexpected error occurred: {e}\")\n",
        "\n",
        "file_to_read = \"non_existent_file.txt\"\n",
        "read_file_safely(file_to_read)\n",
        "\n",
        "file_to_read = \"my_existing_file.txt\"\n",
        "with open(file_to_read, \"w\") as f:\n",
        "  f.write(\"This is a test file.\")\n",
        "\n",
        "read_file_safely(file_to_read)"
      ]
    },
    {
      "cell_type": "code",
      "execution_count": null,
      "metadata": {
        "colab": {
          "base_uri": "https://localhost:8080/"
        },
        "id": "GogE0jrSCOf7",
        "outputId": "cd59ec67-beab-4d33-dd3c-b2b67ab55622"
      },
      "outputs": [
        {
          "name": "stdout",
          "output_type": "stream",
          "text": [
            "Contents of 'source.txt' copied to 'destination.txt' successfully.\n",
            "Destination file contents:\n",
            "This is a test source file.\n",
            "It has multiple lines.\n",
            "And some more text.\n"
          ]
        }
      ],
      "source": [
        "#Q4 Write a Python script that reads from one file and writes its content to another file?\n",
        "\n",
        "def copy_file_contents(source_file, destination_file):\n",
        "    \"\"\"\n",
        "    Reads the contents of source_file and writes them to destination_file.\n",
        "    \"\"\"\n",
        "    try:\n",
        "        with open(source_file, 'r') as source:\n",
        "            contents = source.read()\n",
        "\n",
        "        with open(destination_file, 'w') as destination:\n",
        "            destination.write(contents)\n",
        "\n",
        "        print(f\"Contents of '{source_file}' copied to '{destination_file}' successfully.\")\n",
        "\n",
        "    except FileNotFoundError:\n",
        "        print(f\"Error: Source file '{source_file}' not found.\")\n",
        "    except Exception as e:\n",
        "        print(f\"An error occurred: {e}\")\n",
        "\n",
        "\n",
        "source_filename = \"source.txt\"\n",
        "destination_filename = \"destination.txt\"\n",
        "\n",
        "with open(source_filename, \"w\") as f:\n",
        "  f.write(\"This is a test source file.\\nIt has multiple lines.\\nAnd some more text.\")\n",
        "\n",
        "copy_file_contents(source_filename, destination_filename)\n",
        "\n",
        "\n",
        "with open(destination_filename, \"r\") as f:\n",
        "  print(\"Destination file contents:\")\n",
        "  print(f.read())"
      ]
    },
    {
      "cell_type": "code",
      "execution_count": null,
      "metadata": {
        "colab": {
          "base_uri": "https://localhost:8080/"
        },
        "id": "GyX1sBP7DEBA",
        "outputId": "89bf7a2e-c8b1-4aa4-d7b8-ad49ebf99d5e"
      },
      "outputs": [
        {
          "name": "stdout",
          "output_type": "stream",
          "text": [
            "Error: Division by zero is not allowed.\n"
          ]
        }
      ],
      "source": [
        "#Q5 How would you catch and handle division by zero error in Python?\n",
        "\n",
        "def divide_numbers(numerator, denominator):\n",
        "\n",
        "    try:\n",
        "        result = numerator / denominator\n",
        "        return result\n",
        "    except ZeroDivisionError:\n",
        "        print(\"Error: Division by zero is not allowed.\")\n",
        "        return None\n",
        "\n",
        "numerator = 10\n",
        "denominator = 0\n",
        "\n",
        "result = divide_numbers(numerator, denominator)\n",
        "\n",
        "if result is not None:\n",
        "    print(f\"Result: {result}\")"
      ]
    },
    {
      "cell_type": "code",
      "execution_count": null,
      "metadata": {
        "colab": {
          "base_uri": "https://localhost:8080/"
        },
        "id": "HPeO66o7D2My",
        "outputId": "cfd9707f-bba6-4d33-bbc5-c267e326eb56"
      },
      "outputs": [
        {
          "name": "stderr",
          "output_type": "stream",
          "text": [
            "ERROR:root:Division by zero: 10 / 0\n"
          ]
        },
        {
          "name": "stdout",
          "output_type": "stream",
          "text": [
            "Log file was not created.\n",
            "Result: 5.0\n"
          ]
        }
      ],
      "source": [
        "#Q6  Write a Python program that logs an error message to a log file when a division by zero exception occurs?\n",
        "import logging\n",
        "\n",
        "def divide_numbers_with_logging(numerator, denominator, log_file=\"division_errors.log\"):\n",
        "    logging.basicConfig(filename=log_file, level=logging.ERROR,\n",
        "                        format='%(asctime)s - %(levelname)s - %(message)s')\n",
        "    try:\n",
        "        result = numerator / denominator\n",
        "        return result\n",
        "    except ZeroDivisionError:\n",
        "        error_message = f\"Division by zero: {numerator} / {denominator}\"\n",
        "        logging.error(error_message)\n",
        "        return None\n",
        "\n",
        "numerator = 10\n",
        "denominator = 0\n",
        "\n",
        "result = divide_numbers_with_logging(numerator, denominator)\n",
        "\n",
        "if result is not None:\n",
        "    print(f\"Result: {result}\")\n",
        "\n",
        "try:\n",
        "    with open(\"division_errors.log\", \"r\") as log_file:\n",
        "        print(\"\\nLog file contents:\")\n",
        "        print(log_file.read())\n",
        "except FileNotFoundError:\n",
        "    print(\"Log file was not created.\")\n",
        "\n",
        "numerator = 10\n",
        "denominator = 2\n",
        "\n",
        "result = divide_numbers_with_logging(numerator,denominator)\n",
        "\n",
        "if result is not None:\n",
        "    print(f\"Result: {result}\")"
      ]
    },
    {
      "cell_type": "code",
      "execution_count": null,
      "metadata": {
        "colab": {
          "base_uri": "https://localhost:8080/"
        },
        "id": "QwZwfGfzEK0x",
        "outputId": "e90c6418-7599-4ff6-af91-190e38cd456e"
      },
      "outputs": [
        {
          "name": "stderr",
          "output_type": "stream",
          "text": [
            "WARNING:root:This is a warning message.\n",
            "ERROR:root:This is an error message.\n"
          ]
        }
      ],
      "source": [
        "# Q7 How do you log information at different levels (INFO, ERROR, WARNING) in Python using the logging module?\n",
        "\n",
        "import logging\n",
        "\n",
        "def log_example():\n",
        "    logging.basicConfig(level=logging.INFO,\n",
        "                        format='%(asctime)s - %(levelname)s - %(message)s')\n",
        "\n",
        "    logging.info(\"This is an informational message.\")\n",
        "    logging.warning(\"This is a warning message.\")\n",
        "    logging.error(\"This is an error message.\")\n",
        "    logging.debug(\"This is a debug message.\")\n",
        "log_example()"
      ]
    },
    {
      "cell_type": "code",
      "execution_count": null,
      "metadata": {
        "colab": {
          "base_uri": "https://localhost:8080/"
        },
        "id": "JkTlJfNTEcdp",
        "outputId": "19f4921c-da35-459e-c3aa-f5ff86b47e4b"
      },
      "outputs": [
        {
          "name": "stdout",
          "output_type": "stream",
          "text": [
            "File 'my_file.txt' opened successfully.\n",
            "File 'my_file.txt' opened successfully.\n"
          ]
        }
      ],
      "source": [
        "# Q8 Write a program to handle a file opening error using exception handling?\n",
        "\n",
        "def open_file_safely(filename):\n",
        "    \"\"\"\n",
        "    Attempts to open a file and handles FileNotFoundError.\n",
        "    \"\"\"\n",
        "    try:\n",
        "        file = open(filename, 'r')\n",
        "        print(f\"File '{filename}' opened successfully.\")\n",
        "\n",
        "        file.close()\n",
        "    except FileNotFoundError:\n",
        "        print(f\"Error: File '{filename}' not found.\")\n",
        "    except Exception as e:\n",
        "        print(f\"An unexpected error occurred: {e}\")\n",
        "\n",
        "open_file_safely(\"my_file.txt\")\n",
        "\n",
        "with open(\"my_file.txt\", \"w\") as f:\n",
        "  f.write(\"This is a test file.\")\n",
        "\n",
        "open_file_safely(\"my_file.txt\")"
      ]
    },
    {
      "cell_type": "code",
      "execution_count": null,
      "metadata": {
        "colab": {
          "base_uri": "https://localhost:8080/"
        },
        "id": "I-n2KmI1E45S",
        "outputId": "43870dc1-4ab6-4ff7-9159-b0561bda9ac8"
      },
      "outputs": [
        {
          "name": "stdout",
          "output_type": "stream",
          "text": [
            "['Line 1', 'Line 2', 'Line 3']\n"
          ]
        }
      ],
      "source": [
        "# Q9 How can you read a file line by line and store its content in a list in Python?\n",
        "def read_file_to_list(filename):\n",
        "    try:\n",
        "        with open(filename, 'r') as file:\n",
        "            lines = [line.rstrip('\\n') for line in file]\n",
        "        return lines\n",
        "    except FileNotFoundError:\n",
        "        print(f\"Error: File '{filename}' not found.\")\n",
        "        return []\n",
        "    except Exception as e:\n",
        "        print(f\"An error occurred: {e}\")\n",
        "        return []\n",
        "\n",
        "filename = \"my_file.txt\"\n",
        "\n",
        "with open(filename, \"w\") as f:\n",
        "    f.write(\"Line 1\\nLine 2\\nLine 3\")\n",
        "\n",
        "file_contents = read_file_to_list(filename)\n",
        "\n",
        "if file_contents:\n",
        "    print(file_contents)"
      ]
    },
    {
      "cell_type": "code",
      "execution_count": null,
      "metadata": {
        "colab": {
          "base_uri": "https://localhost:8080/"
        },
        "id": "VtircbsvFg8s",
        "outputId": "3e94519c-c561-43b0-eef1-8833e79dbe59"
      },
      "outputs": [
        {
          "name": "stdout",
          "output_type": "stream",
          "text": [
            "Data appended to 'my_file.txt' successfully.\n",
            "Data appended to 'my_file.txt' successfully.\n",
            "File contents:\n",
            "Line 1\n",
            "Line 2\n",
            "Line 3This line is appended.\n",
            "Another line appended.\n",
            "\n"
          ]
        }
      ],
      "source": [
        "# 10 How can you append data to an existing file in Python?\n",
        "def append_to_file(filename, data):\n",
        "    try:\n",
        "        with open(filename, 'a') as file:\n",
        "            file.write(data)\n",
        "        print(f\"Data appended to '{filename}' successfully.\")\n",
        "    except FileNotFoundError:\n",
        "        print(f\"Error: File '{filename}' not found.\")\n",
        "    except Exception as e:\n",
        "        print(f\"An error occurred: {e}\")\n",
        "\n",
        "filename = \"my_file.txt\"\n",
        "\n",
        "try:\n",
        "    with open(filename, \"x\") as f:\n",
        "        f.write(\"Initial content.\\n\")\n",
        "except FileExistsError:\n",
        "    pass\n",
        "\n",
        "append_to_file(filename, \"This line is appended.\\n\")\n",
        "append_to_file(filename, \"Another line appended.\\n\")\n",
        "\n",
        "try:\n",
        "    with open(filename, \"r\") as f:\n",
        "        print(\"File contents:\")\n",
        "        print(f.read())\n",
        "except FileNotFoundError:\n",
        "    print(\"File was not created.\")\n"
      ]
    },
    {
      "cell_type": "code",
      "execution_count": null,
      "metadata": {
        "colab": {
          "base_uri": "https://localhost:8080/"
        },
        "id": "pDSMjW4JFxc4",
        "outputId": "3a52839d-af55-4b3c-9fe6-ca662aaf18f9"
      },
      "outputs": [
        {
          "name": "stdout",
          "output_type": "stream",
          "text": [
            "Value for key 'banana': 2\n",
            "Error: Key 'grape' not found in the dictionary.\n",
            "Error: Key '1' not found in the dictionary.\n"
          ]
        }
      ],
      "source": [
        "# Q11 Write a Python program that uses a try-except block to handle an error when attempting to access a\n",
        "# dictionary key that doesn't exist?\n",
        "\n",
        "def access_dictionary_key(my_dict, key):\n",
        "    \"\"\"\n",
        "    Attempts to access a dictionary key and handles KeyError.\n",
        "    \"\"\"\n",
        "    try:\n",
        "        value = my_dict[key]\n",
        "        print(f\"Value for key '{key}': {value}\")\n",
        "    except KeyError:\n",
        "        print(f\"Error: Key '{key}' not found in the dictionary.\")\n",
        "    except Exception as e:\n",
        "        print(f\"An unexpected error occured: {e}\")\n",
        "\n",
        "\n",
        "my_dictionary = {\"apple\": 1, \"banana\": 2, \"cherry\": 3}\n",
        "\n",
        "access_dictionary_key(my_dictionary, \"banana\")\n",
        "access_dictionary_key(my_dictionary, \"grape\")\n",
        "access_dictionary_key(my_dictionary, 1)"
      ]
    },
    {
      "cell_type": "code",
      "execution_count": null,
      "metadata": {
        "colab": {
          "base_uri": "https://localhost:8080/"
        },
        "id": "5pZYs2GlGEth",
        "outputId": "56a5d021-5d43-4d67-ee37-a3d3b70c2f0c"
      },
      "outputs": [
        {
          "name": "stdout",
          "output_type": "stream",
          "text": [
            "Result of 10 / 2 is: 5.0\n",
            "3\n",
            "Error: Invalid literal for int().\n",
            "This block always executes.\n",
            "Error: Division by zero is not allowed.\n",
            "This block always executes.\n",
            "Result of 5 / 4 is: 1.25\n",
            "Error: Index out of range.\n",
            "This block always executes.\n",
            "An unexpected error occurred: unsupported operand type(s) for /: 'int' and 'str'\n",
            "This block always executes.\n",
            "Result of 10 / 5 is: 2.0\n",
            "Error: Index out of range.\n",
            "This block always executes.\n",
            "Result of 10 / 1 is: 10.0\n",
            "2\n",
            "Error: Invalid literal for int().\n",
            "This block always executes.\n"
          ]
        }
      ],
      "source": [
        "# Q12  Write a program that demonstrates using multiple except blocks to handle different types of exceptions?\n",
        "def divide(x, y):\n",
        "    try:\n",
        "        result = x / y\n",
        "        print(f\"Result of {x} / {y} is: {result}\")\n",
        "        my_list = [1, 2, 3]\n",
        "        print(my_list[y])\n",
        "        int(\"abc\")\n",
        "    except ZeroDivisionError:\n",
        "        print(\"Error: Division by zero is not allowed.\")\n",
        "    except IndexError:\n",
        "        print(\"Error: Index out of range.\")\n",
        "    except ValueError:\n",
        "        print(\"Error: Invalid literal for int().\")\n",
        "    except Exception as e:\n",
        "        print(f\"An unexpected error occurred: {e}\")\n",
        "    finally:\n",
        "        print(\"This block always executes.\")\n",
        "\n",
        "divide(10, 2)\n",
        "divide(10, 0)\n",
        "divide(5, 4)\n",
        "divide(5, \"a\")\n",
        "divide(10, 5)\n",
        "divide(10, 1)"
      ]
    },
    {
      "cell_type": "code",
      "execution_count": null,
      "metadata": {
        "colab": {
          "base_uri": "https://localhost:8080/"
        },
        "id": "74JJ_CxqH_Za",
        "outputId": "6e840a31-1ae6-465c-9e66-776e5a85970c"
      },
      "outputs": [
        {
          "name": "stdout",
          "output_type": "stream",
          "text": [
            "Error: File 'my_file.txt' does not exist.\n",
            "Error: File 'nonexistent_file.txt' does not exist.\n"
          ]
        }
      ],
      "source": [
        "# Q13 How would you check if a file exists before attempting to read it in Python?\n",
        "import os\n",
        "\n",
        "def read_file_if_exists(filepath):\n",
        "    if os.path.exists(filepath):\n",
        "        try:\n",
        "            with open(filepath, 'r') as file:\n",
        "                content = file.read()\n",
        "                print(f\"File content:\\n{content}\")\n",
        "        except FileNotFoundError:\n",
        "            print(f\"Error: File '{filepath}' not found (even though it should be).\")\n",
        "        except PermissionError:\n",
        "            print(f\"Error: Permission denied to read file '{filepath}'.\")\n",
        "        except Exception as e:\n",
        "            print(f\"An unexpected error occurred: {e}\")\n",
        "    else:\n",
        "        print(f\"Error: File '{filepath}' does not exist.\")\n",
        "\n",
        "read_file_if_exists(\"my_file.txt\")\n",
        "read_file_if_exists(\"nonexistent_file.txt\")"
      ]
    },
    {
      "cell_type": "code",
      "execution_count": null,
      "metadata": {
        "colab": {
          "base_uri": "https://localhost:8080/"
        },
        "id": "HZXIBB2sIQCm",
        "outputId": "6d7b8f5f-0060-4921-e7f1-aa0f05cf9676"
      },
      "outputs": [
        {
          "name": "stderr",
          "output_type": "stream",
          "text": [
            "ERROR:root:Error: Division by zero.\n",
            "ERROR:root:An unexpected error occurred: unsupported operand type(s) for /: 'int' and 'str'\n"
          ]
        }
      ],
      "source": [
        "# Q14  Write a program that uses the logging module to log both informational and error messages?4\n",
        "\n",
        "import logging\n",
        "\n",
        "def configure_logging(log_file=\"my_app.log\"):\n",
        "    \"\"\"Configures the logging module.\"\"\"\n",
        "    logging.basicConfig(\n",
        "        filename=log_file,\n",
        "        level=logging.INFO,\n",
        "        format='%(asctime)s - %(levelname)s - %(message)s'\n",
        "    )\n",
        "\n",
        "def perform_operation(value):\n",
        "    \"\"\"Performs a sample operation and logs messages.\"\"\"\n",
        "    logging.info(f\"Starting operation with value: {value}\")\n",
        "\n",
        "    try:\n",
        "        result = 10 / value\n",
        "        logging.info(f\"Operation successful. Result: {result}\")\n",
        "        return result\n",
        "    except ZeroDivisionError:\n",
        "        logging.error(\"Error: Division by zero.\")\n",
        "        return None\n",
        "    except Exception as e:\n",
        "        logging.error(f\"An unexpected error occurred: {e}\")\n",
        "        return None\n",
        "\n",
        "if __name__ == \"__main__\":\n",
        "    configure_logging()\n",
        "    perform_operation(5)\n",
        "    perform_operation(0)\n",
        "    perform_operation(\"abc\")\n",
        "    logging.info(\"Program execution finished.\")\n",
        "\n"
      ]
    },
    {
      "cell_type": "code",
      "execution_count": null,
      "metadata": {
        "colab": {
          "base_uri": "https://localhost:8080/"
        },
        "id": "8jsnDiLHIgk3",
        "outputId": "eb3970c5-aa43-4eb3-ff22-f6b0b99bdc70"
      },
      "outputs": [
        {
          "name": "stdout",
          "output_type": "stream",
          "text": [
            "File 'empty_file.txt' is empty.\n",
            "Content of 'non_empty_file.txt':\n",
            "This is some content.\n",
            "Another line.\n",
            "Error: File 'nonexistent_file.txt' not found.\n"
          ]
        }
      ],
      "source": [
        "#Q15 Write a Python program that prints the content of a file and handles the case when the file is empty?\n",
        "\n",
        "def print_file_content(filepath):\n",
        "    \"\"\"Prints the content of a file, handling empty files.\"\"\"\n",
        "    try:\n",
        "        with open(filepath, 'r') as file:\n",
        "            content = file.read()\n",
        "            if not content:  # Check if the file is empty\n",
        "                print(f\"File '{filepath}' is empty.\")\n",
        "            else:\n",
        "                print(f\"Content of '{filepath}':\\n{content}\")\n",
        "    except FileNotFoundError:\n",
        "        print(f\"Error: File '{filepath}' not found.\")\n",
        "    except Exception as e:\n",
        "        print(f\"An unexpected error occurred: {e}\")\n",
        "\n",
        "# Example usage:\n",
        "# Create an empty file (if it doesn't already exist)\n",
        "with open(\"empty_file.txt\", \"w\") as f:\n",
        "    pass\n",
        "\n",
        "# Create a non-empty file\n",
        "with open(\"non_empty_file.txt\", \"w\") as f:\n",
        "    f.write(\"This is some content.\\nAnother line.\")\n",
        "\n",
        "print_file_content(\"empty_file.txt\")\n",
        "print_file_content(\"non_empty_file.txt\")\n",
        "print_file_content(\"nonexistent_file.txt\")\n"
      ]
    },
    {
      "cell_type": "code",
      "execution_count": null,
      "metadata": {
        "colab": {
          "base_uri": "https://localhost:8080/",
          "height": 384
        },
        "id": "YTT6AqhVI9Ri",
        "outputId": "2b6cb3b5-8d49-4f3a-fb11-508702ba469c"
      },
      "outputs": [
        {
          "ename": "ModuleNotFoundError",
          "evalue": "No module named 'memory_profiler'",
          "output_type": "error",
          "traceback": [
            "\u001b[0;31m---------------------------------------------------------------------------\u001b[0m",
            "\u001b[0;31mModuleNotFoundError\u001b[0m                       Traceback (most recent call last)",
            "\u001b[0;32m<ipython-input-8-edb973b7197c>\u001b[0m in \u001b[0;36m<cell line: 0>\u001b[0;34m()\u001b[0m\n\u001b[1;32m      1\u001b[0m \u001b[0;31m# Q16 Demonstrate how to use memory profiling to check the memory usage of a small program?\u001b[0m\u001b[0;34m\u001b[0m\u001b[0;34m\u001b[0m\u001b[0m\n\u001b[0;32m----> 2\u001b[0;31m \u001b[0;32mimport\u001b[0m \u001b[0mmemory_profiler\u001b[0m\u001b[0;34m\u001b[0m\u001b[0;34m\u001b[0m\u001b[0m\n\u001b[0m\u001b[1;32m      3\u001b[0m \u001b[0;34m\u001b[0m\u001b[0m\n\u001b[1;32m      4\u001b[0m \u001b[0;34m@\u001b[0m\u001b[0mmemory_profiler\u001b[0m\u001b[0;34m.\u001b[0m\u001b[0mprofile\u001b[0m\u001b[0;34m\u001b[0m\u001b[0;34m\u001b[0m\u001b[0m\n\u001b[1;32m      5\u001b[0m \u001b[0;32mdef\u001b[0m \u001b[0mcreate_large_list\u001b[0m\u001b[0;34m(\u001b[0m\u001b[0msize\u001b[0m\u001b[0;34m)\u001b[0m\u001b[0;34m:\u001b[0m\u001b[0;34m\u001b[0m\u001b[0;34m\u001b[0m\u001b[0m\n",
            "\u001b[0;31mModuleNotFoundError\u001b[0m: No module named 'memory_profiler'",
            "",
            "\u001b[0;31m---------------------------------------------------------------------------\u001b[0;32m\nNOTE: If your import is failing due to a missing package, you can\nmanually install dependencies using either !pip or !apt.\n\nTo view examples of installing some common dependencies, click the\n\"Open Examples\" button below.\n\u001b[0;31m---------------------------------------------------------------------------\u001b[0m\n"
          ]
        }
      ],
      "source": [
        "# Q16 Demonstrate how to use memory profiling to check the memory usage of a small program?\n",
        "import memory_profiler\n",
        "\n",
        "@memory_profiler.profile\n",
        "def create_large_list(size):\n",
        "    \"\"\"Creates a large list and returns it.\"\"\"\n",
        "    my_list = [i for i in range(size)]\n",
        "    return my_list\n",
        "\n",
        "def process_list(my_list):\n",
        "  \"\"\"processes the list\"\"\"\n",
        "  total = sum(my_list)\n",
        "  return total\n",
        "\n",
        "if __name__ == \"__main__\":\n",
        "    size = 1000000\n",
        "    large_list = create_large_list(size)\n",
        "    total = process_list(large_list)\n",
        "    print(f\"Sum of list: {total}\")\n"
      ]
    },
    {
      "cell_type": "code",
      "execution_count": null,
      "metadata": {
        "colab": {
          "base_uri": "https://localhost:8080/"
        },
        "id": "8oZarNhRJOq8",
        "outputId": "9c6b085f-1126-4977-b583-25e938dc05b4"
      },
      "outputs": [
        {
          "name": "stdout",
          "output_type": "stream",
          "text": [
            "Collecting memory_profiler\n",
            "  Downloading memory_profiler-0.61.0-py3-none-any.whl.metadata (20 kB)\n",
            "Requirement already satisfied: psutil in /usr/local/lib/python3.11/dist-packages (from memory_profiler) (5.9.5)\n",
            "Downloading memory_profiler-0.61.0-py3-none-any.whl (31 kB)\n",
            "Installing collected packages: memory_profiler\n",
            "Successfully installed memory_profiler-0.61.0\n"
          ]
        }
      ],
      "source": [
        "pip install memory_profiler"
      ]
    },
    {
      "cell_type": "code",
      "execution_count": null,
      "metadata": {
        "colab": {
          "base_uri": "https://localhost:8080/"
        },
        "id": "kKEY6YVuJcPh",
        "outputId": "0b4d657c-5cfb-4ed0-9b6b-22370791541e"
      },
      "outputs": [
        {
          "name": "stdout",
          "output_type": "stream",
          "text": [
            "Numbers written to 'numbers.txt' successfully.\n",
            "Numbers written to 'range_numbers.txt' successfully.\n"
          ]
        }
      ],
      "source": [
        "# Q17  Write a Python program to create and write a list of numbers to a file, one number per line?\n",
        "\n",
        "def write_numbers_to_file(numbers, filename):\n",
        "    \"\"\"\n",
        "    Writes a list of numbers to a file, one number per line.\n",
        "\n",
        "    Args:\n",
        "        numbers: A list of numbers.\n",
        "        filename: The name of the file to write to.\n",
        "    \"\"\"\n",
        "    try:\n",
        "        with open(filename, 'w') as file:\n",
        "            for number in numbers:\n",
        "                file.write(str(number) + '\\n')\n",
        "        print(f\"Numbers written to '{filename}' successfully.\")\n",
        "    except Exception as e:\n",
        "        print(f\"An error occurred: {e}\")\n",
        "\n",
        "# Example usage:\n",
        "numbers_list = [10, 25, 3, 42, 17, 8]\n",
        "file_name = \"numbers.txt\"\n",
        "\n",
        "write_numbers_to_file(numbers_list, file_name)\n",
        "\n",
        "#Example of using a range:\n",
        "numbers_from_range = list(range(1,11)) #creates a list of numbers 1-10\n",
        "file_name2 = \"range_numbers.txt\"\n",
        "\n",
        "write_numbers_to_file(numbers_from_range, file_name2)\n"
      ]
    },
    {
      "cell_type": "code",
      "execution_count": 13,
      "metadata": {
        "colab": {
          "base_uri": "https://localhost:8080/"
        },
        "id": "HZQbLiyQJq1k",
        "outputId": "f14c7d41-1a4e-426c-9659-0d95e7311519"
      },
      "outputs": [
        {
          "output_type": "stream",
          "name": "stderr",
          "text": [
            "INFO:__main__:Log message 0\n",
            "INFO:__main__:Log message 1\n",
            "INFO:__main__:Log message 2\n",
            "INFO:__main__:Log message 3\n",
            "INFO:__main__:Log message 4\n",
            "INFO:__main__:Log message 5\n",
            "INFO:__main__:Log message 6\n",
            "INFO:__main__:Log message 7\n",
            "INFO:__main__:Log message 8\n",
            "INFO:__main__:Log message 9\n",
            "INFO:__main__:Log message 10\n",
            "INFO:__main__:Log message 11\n",
            "INFO:__main__:Log message 12\n",
            "INFO:__main__:Log message 13\n",
            "INFO:__main__:Log message 14\n",
            "INFO:__main__:Log message 15\n",
            "INFO:__main__:Log message 16\n",
            "INFO:__main__:Log message 17\n",
            "INFO:__main__:Log message 18\n",
            "INFO:__main__:Log message 19\n",
            "INFO:__main__:Program finished\n"
          ]
        }
      ],
      "source": [
        "# Q18 How would you implement a basic logging setup that logs to a file with rotation after?\n",
        "import logging\n",
        "import logging.handlers\n",
        "\n",
        "def setup_rotating_logger(log_file=\"my_app.log\", max_bytes=1024 * 1024, backup_count=5):\n",
        "    \"\"\"\n",
        "    Sets up a rotating file logger.\n",
        "\n",
        "    Args:\n",
        "        log_file: The name of the log file.\n",
        "        max_bytes: The maximum size of the log file before rotation (in bytes).\n",
        "        backup_count: The number of backup log files to keep.\n",
        "    \"\"\"\n",
        "    logger = logging.getLogger(__name__)\n",
        "    logger.setLevel(logging.INFO)\n",
        "\n",
        "    handler = logging.handlers.RotatingFileHandler(\n",
        "        log_file, maxBytes=max_bytes, backupCount=backup_count\n",
        "    )\n",
        "\n",
        "    formatter = logging.Formatter('%(asctime)s - %(levelname)s - %(message)s')\n",
        "    handler.setFormatter(formatter)\n",
        "\n",
        "    logger.addHandler(handler)\n",
        "\n",
        "    return logger\n",
        "\n",
        "if __name__ == \"__main__\":\n",
        "    logger = setup_rotating_logger()\n",
        "\n",
        "    for i in range(20):\n",
        "        logger.info(f\"Log message {i}\")\n",
        "\n",
        "    logger.info(\"Program finished\")"
      ]
    },
    {
      "cell_type": "code",
      "execution_count": 15,
      "metadata": {
        "id": "EBCaSx62KTag",
        "colab": {
          "base_uri": "https://localhost:8080/"
        },
        "outputId": "f7fd5532-4178-439c-e9e4-3bc03c38d052"
      },
      "outputs": [
        {
          "output_type": "stream",
          "name": "stdout",
          "text": [
            "List value at index 1: 20\n",
            "Dictionary value at key 'b': 200\n",
            "Error: Index 5 is out of range for the list.\n",
            "Error: Key 'd' not found in the dictionary.\n",
            "An unexpected error occurred: list indices must be integers or slices, not str\n"
          ]
        }
      ],
      "source": [
        "# Q19 Write a program that handles both IndexError and KeyError using a try-except block?\n",
        "def access_data(data, index, key):\n",
        "    \"\"\"\n",
        "    Accesses data from a list and a dictionary, handling IndexError and KeyError.\n",
        "\n",
        "    Args:\n",
        "        data: A tuple containing a list and a dictionary.\n",
        "        index: The index to access in the list.\n",
        "        key: The key to access in the dictionary.\n",
        "    \"\"\"\n",
        "    try:\n",
        "        my_list, my_dict = data\n",
        "        list_value = my_list[index]\n",
        "        dict_value = my_dict[key]\n",
        "        print(f\"List value at index {index}: {list_value}\")\n",
        "        print(f\"Dictionary value at key '{key}': {dict_value}\")\n",
        "\n",
        "    except IndexError:\n",
        "        print(f\"Error: Index {index} is out of range for the list.\")\n",
        "    except KeyError:\n",
        "        print(f\"Error: Key '{key}' not found in the dictionary.\")\n",
        "    except Exception as e: # Catch other exceptions\n",
        "        print(f\"An unexpected error occurred: {e}\")\n",
        "\n",
        "\n",
        "my_list = [10, 20, 30]\n",
        "my_dict = {\"a\": 100, \"b\": 200, \"c\": 300}\n",
        "data = (my_list, my_dict)\n",
        "\n",
        "access_data(data, 1, \"b\")\n",
        "access_data(data, 5, \"b\")\n",
        "access_data(data, 1, \"d\")\n",
        "access_data(data, \"a\", \"b\")"
      ]
    },
    {
      "cell_type": "code",
      "source": [
        "#Q20  How would you open a file and read its contents using a context manager in PythoN?\n",
        "def read_file_with_context_manager(filepath):\n",
        "    \"\"\"\n",
        "    Opens a file and reads its contents using a context manager.\n",
        "\n",
        "    Args:\n",
        "        filepath: The path to the file.\n",
        "    \"\"\"\n",
        "    try:\n",
        "        with open(filepath, 'r') as file:\n",
        "            content = file.read()\n",
        "            print(f\"File content:\\n{content}\")\n",
        "    except FileNotFoundError:\n",
        "        print(f\"Error: File '{filepath}' not found.\")\n",
        "    except Exception as e:\n",
        "        print(f\"An unexpected error occurred: {e}\")\n",
        "\n",
        "with open(\"my_file.txt\", \"w\") as f:\n",
        "    f.write(\"This is some sample text.\\nAnother line.\")\n",
        "\n",
        "read_file_with_context_manager(\"my_file.txt\")\n",
        "read_file_with_context_manager(\"nonexistent_file.txt\")\n"
      ],
      "metadata": {
        "colab": {
          "base_uri": "https://localhost:8080/"
        },
        "id": "QaB2eqB9LH4j",
        "outputId": "a4595566-049c-4bc2-d5cc-e15f31ffec14"
      },
      "execution_count": 17,
      "outputs": [
        {
          "output_type": "stream",
          "name": "stdout",
          "text": [
            "File content:\n",
            "This is some sample text.\n",
            "Another line.\n",
            "Error: File 'nonexistent_file.txt' not found.\n"
          ]
        }
      ]
    },
    {
      "cell_type": "code",
      "source": [
        "# Q21  Write a Python program that reads a file and prints the number of occurrences of a specific word?\n",
        "def count_word_occurrences(filepath, word):\n",
        "    \"\"\"\n",
        "    Reads a file and counts the number of occurrences of a specific word.\n",
        "\n",
        "    Args:\n",
        "        filepath: The path to the file.\n",
        "        word: The word to count.\n",
        "    \"\"\"\n",
        "    try:\n",
        "        with open(filepath, 'r') as file:\n",
        "            content = file.read().lower()\n",
        "            word = word.lower()\n",
        "            count = content.count(word)\n",
        "            print(f\"The word '{word}' appears {count} times in '{filepath}'.\")\n",
        "    except FileNotFoundError:\n",
        "        print(f\"Error: File '{filepath}' not found.\")\n",
        "    except Exception as e:\n",
        "        print(f\"An unexpected error occurred: {e}\")\n",
        "\n",
        "\n",
        "with open(\"sample_text.txt\", \"w\") as f:\n",
        "    f.write(\"This is a sample text. This text contains the word 'sample' twice. Sample is here again.\")\n",
        "\n",
        "count_word_occurrences(\"sample_text.txt\", \"sample\")\n",
        "count_word_occurrences(\"sample_text.txt\", \"text\")\n",
        "count_word_occurrences(\"sample_text.txt\", \"nonexistent\")\n",
        "count_word_occurrences(\"nonexistent_file.txt\", \"word\")\n"
      ],
      "metadata": {
        "colab": {
          "base_uri": "https://localhost:8080/"
        },
        "id": "QLpFzOtoLedZ",
        "outputId": "e6b68a03-0baf-4924-f736-8cf2e57aa47c"
      },
      "execution_count": 19,
      "outputs": [
        {
          "output_type": "stream",
          "name": "stdout",
          "text": [
            "The word 'sample' appears 3 times in 'sample_text.txt'.\n",
            "The word 'text' appears 2 times in 'sample_text.txt'.\n",
            "The word 'nonexistent' appears 0 times in 'sample_text.txt'.\n",
            "Error: File 'nonexistent_file.txt' not found.\n"
          ]
        }
      ]
    },
    {
      "cell_type": "code",
      "source": [
        "# Q22 How can you check if a file is empty before attempting to read its content?\n",
        "import os\n",
        "\n",
        "def check_and_read_file(filepath):\n",
        "    \"\"\"\n",
        "    Checks if a file is empty before reading its contents.\n",
        "\n",
        "    Args:\n",
        "        filepath: The path to the file.\n",
        "    \"\"\"\n",
        "    if os.path.exists(filepath):\n",
        "        if os.path.getsize(filepath) == 0:\n",
        "            print(f\"File '{filepath}' is empty.\")\n",
        "        else:\n",
        "            try:\n",
        "                with open(filepath, 'r') as file:\n",
        "                    content = file.read()\n",
        "                    print(f\"File content:\\n{content}\")\n",
        "            except Exception as e:\n",
        "                print(f\"An error occurred: {e}\")\n",
        "    else:\n",
        "        print(f\"File '{filepath}' does not exist.\")\n",
        "\n",
        "\n",
        "with open(\"empty_file.txt\", \"w\") as f:\n",
        "    pass\n",
        "with open(\"non_empty_file.txt\", \"w\") as f:\n",
        "    f.write(\"This file has content.\")\n",
        "\n",
        "check_and_read_file(\"empty_file.txt\")\n",
        "check_and_read_file(\"non_empty_file.txt\")\n",
        "check_and_read_file(\"nonexistent_file.txt\")\n"
      ],
      "metadata": {
        "colab": {
          "base_uri": "https://localhost:8080/"
        },
        "id": "t3rSTZLkLzDP",
        "outputId": "a522e4f9-eb06-4c9e-b913-0c69ace8fd75"
      },
      "execution_count": 21,
      "outputs": [
        {
          "output_type": "stream",
          "name": "stdout",
          "text": [
            "File 'empty_file.txt' is empty.\n",
            "File content:\n",
            "This file has content.\n",
            "File 'nonexistent_file.txt' does not exist.\n"
          ]
        }
      ]
    },
    {
      "cell_type": "code",
      "source": [
        "# Q23 Write a Python program that writes to a log file when an error occurs during file handling?\n",
        "\n",
        "\n",
        "import logging\n",
        "\n",
        "def configure_logging(log_file=\"file_errors.log\"):\n",
        "    logging.basicConfig(\n",
        "        filename=log_file,\n",
        "        level=logging.ERROR,\n",
        "        format='%(asctime)s - %(levelname)s - %(message)s'\n",
        "    )\n",
        "\n",
        "def process_file(filepath):\n",
        "    try:\n",
        "        with open(filepath, 'r') as file:\n",
        "            content = file.read()\n",
        "            processed_content = content + \" processed\"\n",
        "            print(processed_content)\n",
        "    except FileNotFoundError:\n",
        "        logging.error(f\"File not found: {filepath}\")\n",
        "    except PermissionError:\n",
        "        logging.error(f\"Permission denied: {filepath}\")\n",
        "    except Exception as e:\n",
        "        logging.error(f\"An unexpected error occurred: {e}\")\n",
        "\n",
        "if __name__ == \"__main__\":\n",
        "    configure_logging()\n",
        "\n",
        "    with open(\"test_file.txt\", \"w\") as f:\n",
        "        f.write(\"Sample content.\")\n",
        "\n",
        "    process_file(\"test_file.txt\")\n",
        "    process_file(\"nonexistent_file.txt\")"
      ],
      "metadata": {
        "colab": {
          "base_uri": "https://localhost:8080/"
        },
        "id": "QTtwy6hJMOpu",
        "outputId": "3f9c441e-ec85-45fa-a9c8-9b90aa12957e"
      },
      "execution_count": 23,
      "outputs": [
        {
          "output_type": "stream",
          "name": "stderr",
          "text": [
            "ERROR:root:File not found: nonexistent_file.txt\n"
          ]
        },
        {
          "output_type": "stream",
          "name": "stdout",
          "text": [
            "Sample content. processed\n"
          ]
        }
      ]
    },
    {
      "cell_type": "code",
      "source": [],
      "metadata": {
        "id": "f_nXKUdUMinU"
      },
      "execution_count": null,
      "outputs": []
    }
  ],
  "metadata": {
    "colab": {
      "provenance": []
    },
    "kernelspec": {
      "display_name": "Python 3",
      "name": "python3"
    },
    "language_info": {
      "name": "python"
    }
  },
  "nbformat": 4,
  "nbformat_minor": 0
}