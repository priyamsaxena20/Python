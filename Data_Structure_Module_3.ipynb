{
  "nbformat": 4,
  "nbformat_minor": 0,
  "metadata": {
    "colab": {
      "provenance": []
    },
    "kernelspec": {
      "name": "python3",
      "display_name": "Python 3"
    },
    "language_info": {
      "name": "python"
    }
  },
  "cells": [
    {
      "cell_type": "markdown",
      "source": [
        "# PYTHON_DATA_STRUCTURE_MODULE_3"
      ],
      "metadata": {
        "id": "RTumePrQqeML"
      }
    },
    {
      "cell_type": "markdown",
      "source": [
        "# Theory Questions"
      ],
      "metadata": {
        "id": "cuTnyD_-qyQA"
      }
    },
    {
      "cell_type": "markdown",
      "source": [
        "  Q1-What are data structures, and why are they important?\n",
        "\n",
        "  ->Data structures are ways to organize and store data so it can be used effectively. They make it easy to access, manage, and modify data, saving time and resources. Choosing the right data structure helps improve the performance of programs and supports algorithms in solving problems efficiently.\n",
        "\n",
        "They are important because they are used in almost every application, like managing databases, building apps, and creating websites. Examples include arrays, linked lists, stacks"
      ],
      "metadata": {
        "id": "c-MytfjVq7CM"
      }
    },
    {
      "cell_type": "markdown",
      "source": [
        "Q2-  Explain the difference between mutable and immutable data types with examples?\n",
        "\n",
        "->mutable and immutable data types refer to whether their values can be changed after they are created.\n",
        "\n",
        "**Mutable Data Types**\n",
        "\n",
        "Mutable data types can be modified in place after they are created.\n",
        "Examples: Lists, dictionaries, and sets.\n",
        "\n",
        "**Immutable Data Types**\n",
        "\n",
        " Immutable data types cannot be changed after they are created. Any operation that appears to modify an immutable object actually creates a new object with the modified value\n",
        "Examples:String,Tuples"
      ],
      "metadata": {
        "id": "4wgT6xZ1q7FE"
      }
    },
    {
      "cell_type": "markdown",
      "source": [
        "  Q3- What are the main differences between lists and tuples in Python?\n",
        "\n",
        "  ->\n",
        "The primary difference between lists and tuples in Python lies in their mutability:\n",
        "\n",
        "**Lists**: Mutable, meaning their contents can be changed after creation. You can add, remove, or modify elements within a list.\n",
        "\n",
        "**Tuples**: Immutable, meaning their contents cannot be changed once created.\n"
      ],
      "metadata": {
        "id": "AGFwwLK8q7H7"
      }
    },
    {
      "cell_type": "markdown",
      "source": [
        "  Q4- Describe how dictionaries store data\n",
        "\n",
        "  ->Dictionaries  store data in key-value pairs. Each key is unique and associated with a corresponding value. The keys are used to efficiently access the associated values. The values can be of any data type, including numbers, strings, lists, or even other dictionaries.\n"
      ],
      "metadata": {
        "id": "oLuoILq1q7Mv"
      }
    },
    {
      "cell_type": "markdown",
      "source": [
        "Q5- Why might you use a set instead of a list in Python?\n",
        "\n",
        "->There are 2 major reason for using set instead of list\n",
        "\n",
        "**Remove Duplicates:** Sets automatically eliminate duplicate elements, making them useful for ensuring unique values within a collection.\n",
        "\n",
        "**Set Operations:** Sets support efficient set operations like union, intersection, difference, and symmetric difference, which are often used in data analysis and filtering.\n"
      ],
      "metadata": {
        "id": "KR5-uuh4q7P1"
      }
    },
    {
      "cell_type": "markdown",
      "source": [
        "  Q6- What is a string in Python, and how is it different from a list?\n",
        "\n",
        "  -> a string is an immutable sequence of characters, representing textual data. Unlike lists, which are mutable and can hold elements of various data types list is like moms bag, strings are specifically designed for handling text. This immutability means you cannot change individual characters within a string after it's created.\n",
        "\n",
        "\n"
      ],
      "metadata": {
        "id": "IHa2amCFq7SK"
      }
    },
    {
      "cell_type": "markdown",
      "source": [
        "  Q7- How do tuples ensure data integrity in Python?\n",
        "\n",
        "  ->\n",
        "Tuples in Python ensure data integrity by being immutable. This means that once a tuple is created, its elements cannot be changed, added, or removed. This immutability provides several benefits:\n",
        "\n",
        "Preventing Accidental Modifications: By making tuples immutable, you prevent accidental changes to the data within them. This is crucial in situations where the data needs to remain constant throughout the program's execution.\n",
        "\n",
        "\n"
      ],
      "metadata": {
        "id": "jrG8geY8q7Ul"
      }
    },
    {
      "cell_type": "markdown",
      "source": [
        "Q8- What is a hash table, and how does it relate to dictionaries in Python?\n",
        "\n",
        "->A hash table is a data structure that stores key-value pairs and provides efficient access to values based on their corresponding keys. It uses a hash function to map keys to specific indices within an array, allowing for fast retrieval of values.\n",
        "\n",
        " dictionaries are implemented using hash tables. This means that when you create a dictionary, the keys are hashed, and the resulting hash values are used to determine the locations of the corresponding values within the dictionary's internal structure. This approach enables dictionaries to provide efficient key-based lookups, making them a valuable tool for various data manipulation tasks.\n"
      ],
      "metadata": {
        "id": "yfLqkoTJq7Xc"
      }
    },
    {
      "cell_type": "markdown",
      "source": [
        "Q9-Can lists contain different data types in Python?\n",
        "\n",
        "->Yes, lists in Python can contain elements of different data types. This flexibility is one of the key advantages of  lists. It is like Mothers bag it is hetroheneous in nature\n",
        "\n",
        "For example, a single list can contain integers, floating-point numbers, strings, booleans, and even other lists or more complex data structures. This allows you to create versatile and dynamic data collections that can represent a wide range of information.\n"
      ],
      "metadata": {
        "id": "FJb9Sw4Mq7a2"
      }
    },
    {
      "cell_type": "markdown",
      "source": [
        "Q10-Explain why strings are immutable in python?\n",
        "\n",
        "->String are immutable means once created values cannot be changed because of\n",
        "\n",
        "Data Integrity: Immutability ensures that string values remain unchanged throughout their lifetime, preventing accidental or unintended modifications. This is crucial for maintaining data integrity in various applications.\n"
      ],
      "metadata": {
        "id": "KXef926hv_VM"
      }
    },
    {
      "cell_type": "markdown",
      "source": [
        "  Q11- What advantages do dictionaries offer over lists for certain tasks?\n",
        "\n",
        "  -> Dictionaries provide extremely fast data retrieval based on keys. This is because they are implemented using hash tables, which allow for constant-time lookups. In contrast, lists require linear time complexity (O(n)) to find a specific element, as we might need to iterate through the entire list. But in case of dictionary we can simple use the key for it which makes it fast\n"
      ],
      "metadata": {
        "id": "5b4E6UPJv_h0"
      }
    },
    {
      "cell_type": "markdown",
      "source": [
        "  Q12-Describe a scenario where using a tuple would be preferable over a list?\n",
        "\n",
        "  ->One scenario where using a tuple would be preferable over a list is when we want to ensure that the data within a collection remains constant and cannot be accidentally modified. Tuple support Data Integrity\n"
      ],
      "metadata": {
        "id": "LS3Pcg1pv_vo"
      }
    },
    {
      "cell_type": "markdown",
      "source": [
        "  Q13- How do sets handle duplicate values in Python?\n",
        "\n",
        "  ->When we create a set, any duplicate values that are included will be eliminated during the set's creation. This behavior makes sets particularly useful for tasks where you need to ensure that a collection of elements contains only unique values.\n"
      ],
      "metadata": {
        "id": "NJV4Lr3Zv_5n"
      }
    },
    {
      "cell_type": "markdown",
      "source": [
        "  Q14-How does the “in” keyword work differently for lists and dictionaries?\n",
        "\n",
        "  ->In List The in keyword checks for the membership of an element within the list.It iterates through the list sequentially to find a match.\n",
        "\n",
        "  But in case of Dictionaries The in keyword checks for the existence of a specific key within the dictionary.\n",
        "\n"
      ],
      "metadata": {
        "id": "S_yyuuHzwAE8"
      }
    },
    {
      "cell_type": "markdown",
      "source": [
        "Q15- Can you modify the elements of a tuple? Explain why or why not?\n",
        "\n",
        "->No we cannot directly modify the elements of a tuple in Python as  Tuples are inherently immutable, meaning their contents cannot be changed after creation. This is a fundamental characteristic that distinguishes them from mutable data structures like lists.\n"
      ],
      "metadata": {
        "id": "Z-avfwG0wAO7"
      }
    },
    {
      "cell_type": "markdown",
      "source": [
        "Q16- What is a nested dictionary, and give an example of its use case?\n",
        "\n",
        "->A nested dictionary is a dictionary where one or more of its values are themselves dictionaries. This creates a hierarchical structure, allowing us to represent complex, multi-level data within a single data structure.\n"
      ],
      "metadata": {
        "id": "ajpkzNfIwAZz"
      }
    },
    {
      "cell_type": "markdown",
      "source": [
        "Q17- Describe the time complexity of accessing elements in a dictionary?\n",
        "\n",
        "->The time complexity of accessing elements in a dictionary is typically constant time, or O(1).\n"
      ],
      "metadata": {
        "id": "B94hbZg5wAjM"
      }
    },
    {
      "cell_type": "markdown",
      "source": [
        "  Q18- In what situations are lists preferred over dictionaries?\n",
        "\n",
        "  Lists are preferred over dictionaries in Majorly 2 situations:\n",
        "\n",
        "Order matters: Lists maintain the order of elements, while dictionaries do not. If the order of elements is crucial for the application (e.g., representing a sequence of events, maintaining the order of items in a shopping cart), lists are the better choice.\n",
        "\n",
        "No need for key-value pairs: If we simply need to store a collection of items without associating them with specific keys, lists are more appropriate.\n"
      ],
      "metadata": {
        "id": "hcAUfvkJwAtb"
      }
    },
    {
      "cell_type": "markdown",
      "source": [
        "  Q19- Why are dictionaries considered unordered, and how does that affect data retrieval?\n",
        "\n",
        "  ->Dictionaries  are considered unordered because they do not maintain any specific order for their key-value pairs. This means that when we iterate over a dictionary, the order in which the items are accessed may not be the same as the order in which they were inserted\n"
      ],
      "metadata": {
        "id": "wQpa3n0swA2M"
      }
    },
    {
      "cell_type": "markdown",
      "source": [
        "  Q20- Explain the difference between a list and a dictionary in terms of data retrieval?\n",
        "  The primary difference in data retrieval between lists and dictionaries in Python lies in their access mechanisms:\n",
        "\n",
        "Lists:\n",
        " Elements in a list are accessed using their numerical index. The index starts from 0 for the first element.\n",
        "dictionary:\n",
        "Accessed by Key: Elements in a dictionary are accessed using their unique keys.\n",
        "\n",
        "one major difference is Lists use numerical indices, while dictionaries use unique keys.\n",
        "\n"
      ],
      "metadata": {
        "id": "aK8g7sk-wA-y"
      }
    },
    {
      "cell_type": "markdown",
      "source": [
        "# Practical Questions\n",
        "\n",
        "\n",
        "\n"
      ],
      "metadata": {
        "id": "a7RuxB4WwBNp"
      }
    },
    {
      "cell_type": "code",
      "source": [
        "#   Q1 Write a code to create a string with your name and print ?\n",
        "name =input(\"Enter you name: \")\n",
        "print(name)\n",
        "\n",
        "\n"
      ],
      "metadata": {
        "colab": {
          "base_uri": "https://localhost:8080/"
        },
        "id": "IFT32Hgj0bvn",
        "outputId": "ed3d3c2d-15c8-47f3-c219-0e28f30f9b5c"
      },
      "execution_count": 1,
      "outputs": [
        {
          "output_type": "stream",
          "name": "stdout",
          "text": [
            "Enter you name: Priyam\n",
            "Priyam\n"
          ]
        }
      ]
    },
    {
      "cell_type": "code",
      "source": [
        "# Q2 Write a code to find the length of the string \"Hello World\"\n",
        "\n",
        "string = \"Hello World\"\n",
        "length = len(string)\n",
        "print(length)\n",
        "\n"
      ],
      "metadata": {
        "colab": {
          "base_uri": "https://localhost:8080/"
        },
        "id": "Ka38j1IG1VTe",
        "outputId": "e16d9e97-02fc-42c4-9bec-5fca0bf9a055"
      },
      "execution_count": 2,
      "outputs": [
        {
          "output_type": "stream",
          "name": "stdout",
          "text": [
            "11\n"
          ]
        }
      ]
    },
    {
      "cell_type": "code",
      "source": [
        "# Q3  Write a code to slice the first 3 characters from the string \"Python Programming\"\n",
        "word=\"Python Programming\"\n",
        "slice=word[0:3]\n",
        "print(slice)\n",
        "\n"
      ],
      "metadata": {
        "colab": {
          "base_uri": "https://localhost:8080/"
        },
        "id": "Ti4GUEsx1VWX",
        "outputId": "2050209e-9970-49ea-eb42-0b5104add0be"
      },
      "execution_count": 4,
      "outputs": [
        {
          "output_type": "stream",
          "name": "stdout",
          "text": [
            "Pyt\n"
          ]
        }
      ]
    },
    {
      "cell_type": "code",
      "source": [
        "# Q4 Write a code to convert the string \"hello\" to uppercase?\n",
        "string=\"hello\"\n",
        "upper=string.upper()\n",
        "print(upper)"
      ],
      "metadata": {
        "colab": {
          "base_uri": "https://localhost:8080/"
        },
        "id": "2bUb4Ms91VZF",
        "outputId": "833a2f5a-d0c5-46b7-ac9e-363ce9b7b49c"
      },
      "execution_count": 5,
      "outputs": [
        {
          "output_type": "stream",
          "name": "stdout",
          "text": [
            "HELLO\n"
          ]
        }
      ]
    },
    {
      "cell_type": "code",
      "source": [
        "# Q5  Write a code to replace the word \"apple\" with \"orange\" in the string \"I like apple\"\n",
        "string =\"I like apple\"\n",
        "new_string=string.replace(\"apple\",\"orange\")\n",
        "print(new_string)\n",
        "\n"
      ],
      "metadata": {
        "colab": {
          "base_uri": "https://localhost:8080/"
        },
        "id": "9xra6Pcw1VbU",
        "outputId": "eca4855d-e68f-4191-d059-8ab5a706c31a"
      },
      "execution_count": 7,
      "outputs": [
        {
          "output_type": "stream",
          "name": "stdout",
          "text": [
            "I like orange\n"
          ]
        }
      ]
    },
    {
      "cell_type": "code",
      "source": [
        "# Q6 Write a code to create a list with numbers 1 to 5 and print it\n",
        "\n",
        "list=[]\n",
        "for i in range(1,6):\n",
        "  list.append(i)\n",
        "print(list)"
      ],
      "metadata": {
        "colab": {
          "base_uri": "https://localhost:8080/"
        },
        "id": "B39OdHy31Vdj",
        "outputId": "7d81fec6-c605-423e-bdec-2480a418a570"
      },
      "execution_count": 9,
      "outputs": [
        {
          "output_type": "stream",
          "name": "stdout",
          "text": [
            "[1, 2, 3, 4, 5]\n"
          ]
        }
      ]
    },
    {
      "cell_type": "code",
      "source": [
        "# Q7 Write a code to append the number 10 to the list [1, 2, 3, 4]\n",
        "\n",
        "list=[1,2,3,4]\n",
        "list.append(10)\n",
        "print(list)"
      ],
      "metadata": {
        "colab": {
          "base_uri": "https://localhost:8080/"
        },
        "id": "SRkTZdEXO7cd",
        "outputId": "9fe6359a-6f63-49d2-a322-ac0ab837b671"
      },
      "execution_count": 10,
      "outputs": [
        {
          "output_type": "stream",
          "name": "stdout",
          "text": [
            "[1, 2, 3, 4, 10]\n"
          ]
        }
      ]
    },
    {
      "cell_type": "code",
      "source": [
        "# Q8 Write a code to remove the number 3 from the list [1, 2, 3, 4, 5]\n",
        "list = [1, 2, 3, 4, 5]\n",
        "newl=list.remove(3)\n",
        "print(list)"
      ],
      "metadata": {
        "colab": {
          "base_uri": "https://localhost:8080/"
        },
        "id": "kQYZ5pce1Vf-",
        "outputId": "f5449790-32de-4edc-943c-9c7185eeb3c5"
      },
      "execution_count": 11,
      "outputs": [
        {
          "output_type": "stream",
          "name": "stdout",
          "text": [
            "[1, 2, 4, 5]\n"
          ]
        }
      ]
    },
    {
      "cell_type": "code",
      "source": [
        "# Q9  Write a code to access the second element in the list ['a', 'b', 'c', 'd']\n",
        "list=['a','b','c','d']\n",
        "print(list[1])\n"
      ],
      "metadata": {
        "colab": {
          "base_uri": "https://localhost:8080/"
        },
        "id": "p2K7jXsZ1VlN",
        "outputId": "bc95641b-9b2b-4f5d-ec51-64972f578b92"
      },
      "execution_count": 12,
      "outputs": [
        {
          "output_type": "stream",
          "name": "stdout",
          "text": [
            "b\n"
          ]
        }
      ]
    },
    {
      "cell_type": "code",
      "source": [
        "# Q10 Write a code to reverse the list [10, 20, 30, 40, 50]\n",
        "my_List = [10, 20, 30, 40, 50]\n",
        "newlist=my_List[::-1]\n",
        "print(newlist)"
      ],
      "metadata": {
        "colab": {
          "base_uri": "https://localhost:8080/"
        },
        "id": "WyWqWBci1Voe",
        "outputId": "9ff2a2a6-b8aa-4a34-de5b-b978299b2663"
      },
      "execution_count": 21,
      "outputs": [
        {
          "output_type": "stream",
          "name": "stdout",
          "text": [
            "[50, 40, 30, 20, 10]\n"
          ]
        }
      ]
    },
    {
      "cell_type": "code",
      "source": [
        "#Q11- Write a code to create a tuple with the elements 10, 20, 30 and print it?\n",
        "tuple=(10,20,30)\n",
        "print(tuple)\n"
      ],
      "metadata": {
        "colab": {
          "base_uri": "https://localhost:8080/"
        },
        "id": "PE3aAylSQqdu",
        "outputId": "94ba4614-5f93-4a47-eff9-fe3b38e3ab34"
      },
      "execution_count": 22,
      "outputs": [
        {
          "output_type": "stream",
          "name": "stdout",
          "text": [
            "(10, 20, 30)\n"
          ]
        }
      ]
    },
    {
      "cell_type": "code",
      "source": [
        "#Q12  Write a code to access the first element of the tuple ('apple', 'banana', 'cherry')\n",
        "tuple=('apple', 'banana', 'cherry')\n",
        "print(tuple[0])\n"
      ],
      "metadata": {
        "colab": {
          "base_uri": "https://localhost:8080/"
        },
        "id": "MpFYlp2jR3XS",
        "outputId": "a56f1226-b3e6-4583-8d2b-10cdaa28e5f1"
      },
      "execution_count": 24,
      "outputs": [
        {
          "output_type": "stream",
          "name": "stdout",
          "text": [
            "apple\n"
          ]
        }
      ]
    },
    {
      "cell_type": "code",
      "source": [
        "# Q13 Write a code to count how many times the number 2 appears in the tuple (1, 2, 3, 2, 4, 2)\n",
        "tuple=(1, 2, 3, 2, 4, 2)\n",
        "cnt=0\n",
        "for i in tuple:\n",
        "  if i==2:\n",
        "    cnt+=1\n",
        "print(cnt)"
      ],
      "metadata": {
        "colab": {
          "base_uri": "https://localhost:8080/"
        },
        "id": "mZFVSGo1R3if",
        "outputId": "b6f04f2b-d51a-469b-d6ac-c1f4f120d324"
      },
      "execution_count": 30,
      "outputs": [
        {
          "output_type": "stream",
          "name": "stdout",
          "text": [
            "3\n"
          ]
        }
      ]
    },
    {
      "cell_type": "code",
      "source": [
        "# Q14  Write a code to find the index of the element \"cat\" in the tuple ('dog', 'cat', 'rabbit')\n",
        "\n",
        "tuple=('dog', 'cat', 'rabbit')\n",
        "index=tuple.index(\"cat\")\n",
        "print(index)"
      ],
      "metadata": {
        "colab": {
          "base_uri": "https://localhost:8080/"
        },
        "id": "35I4GXbfR3qB",
        "outputId": "7612be91-26cb-4d1c-c57e-74741ac9ec74"
      },
      "execution_count": 31,
      "outputs": [
        {
          "output_type": "stream",
          "name": "stdout",
          "text": [
            "1\n"
          ]
        }
      ]
    },
    {
      "cell_type": "code",
      "source": [
        "#   Q15 Write a code to check if the element \"banana\" is in the tuple ('apple', 'orange', 'banana').\n",
        "\n",
        "tuple=('apple', 'orange', 'banana')\n",
        "if \"banana\" in tuple:\n",
        "  print(\"TRUE\")\n",
        "else:\n",
        "  print(\"FALSE\")"
      ],
      "metadata": {
        "colab": {
          "base_uri": "https://localhost:8080/"
        },
        "id": "7YiQRTwyR30J",
        "outputId": "d23173f8-5a86-4fdb-bfb4-49d972814577"
      },
      "execution_count": 32,
      "outputs": [
        {
          "output_type": "stream",
          "name": "stdout",
          "text": [
            "TRUE\n"
          ]
        }
      ]
    },
    {
      "cell_type": "code",
      "source": [
        "# Q16  Write a code to create a set with the elements 1, 2, 3, 4, 5 and print it\n",
        "\n",
        "set={1,2,3,4,5}\n",
        "print(set)"
      ],
      "metadata": {
        "colab": {
          "base_uri": "https://localhost:8080/"
        },
        "id": "2jaVNqf0R37g",
        "outputId": "29ca9614-2ff8-4d66-a77e-b4bbfeb77f0e"
      },
      "execution_count": 33,
      "outputs": [
        {
          "output_type": "stream",
          "name": "stdout",
          "text": [
            "{1, 2, 3, 4, 5}\n"
          ]
        }
      ]
    },
    {
      "cell_type": "code",
      "source": [
        "# Q17 Write a code to add the element 6 to the set {1, 2, 3, 4}\n",
        "\n",
        "set={1,2,3,4}\n",
        "set.add(6)\n",
        "print(set)\n",
        "\n"
      ],
      "metadata": {
        "colab": {
          "base_uri": "https://localhost:8080/"
        },
        "id": "zUIT_CPMR4DT",
        "outputId": "dd936f7f-0a95-4228-b641-0afbf0f4961c"
      },
      "execution_count": 48,
      "outputs": [
        {
          "output_type": "stream",
          "name": "stdout",
          "text": [
            "{1, 2, 3, 4, 6}\n"
          ]
        }
      ]
    },
    {
      "cell_type": "code",
      "source": [
        "# Q18  Write a code to create a tuple with the elements 10, 20, 30 and print it.\n",
        "tuple=(10,20,30)\n",
        "print(tuple)"
      ],
      "metadata": {
        "colab": {
          "base_uri": "https://localhost:8080/"
        },
        "id": "13MS85f-R4LD",
        "outputId": "73786f19-388d-4897-de67-f90c9b12737a"
      },
      "execution_count": 37,
      "outputs": [
        {
          "output_type": "stream",
          "name": "stdout",
          "text": [
            "(10, 20, 30)\n"
          ]
        }
      ]
    },
    {
      "cell_type": "code",
      "source": [
        "# Q19. Write a code to access the first element of the tuple ('apple', 'banana', 'cherry')\n",
        "tuple=('apple', 'banana', 'cherry')\n",
        "print(tuple)"
      ],
      "metadata": {
        "colab": {
          "base_uri": "https://localhost:8080/"
        },
        "id": "-z2CUOLtR4Sp",
        "outputId": "f0094039-91f9-4555-db6e-6ffdedc7253a"
      },
      "execution_count": 38,
      "outputs": [
        {
          "output_type": "stream",
          "name": "stdout",
          "text": [
            "('apple', 'banana', 'cherry')\n"
          ]
        }
      ]
    },
    {
      "cell_type": "code",
      "source": [
        "# Q20 Write a code to count how many times the number 2 appears in the tuple (1, 2, 3, 2, 4, 2)\n",
        "\n",
        "tuple=(1, 2, 3, 2, 4, 2)\n",
        "cnt=0\n",
        "for i in tuple:\n",
        "  if i==2:\n",
        "    cnt+=1\n",
        "print(cnt)"
      ],
      "metadata": {
        "colab": {
          "base_uri": "https://localhost:8080/"
        },
        "id": "k1l0zAE-R4Zi",
        "outputId": "5f395f35-ac03-41c8-8bec-853615bfe1bd"
      },
      "execution_count": 39,
      "outputs": [
        {
          "output_type": "stream",
          "name": "stdout",
          "text": [
            "3\n"
          ]
        }
      ]
    },
    {
      "cell_type": "code",
      "source": [
        "# Q21  Write a code to find the index of the element \"cat\" in the tuple ('dog', 'cat', 'rabbit')\n",
        "\n",
        "tuple=('dog', 'cat', 'rabbit')\n",
        "index=tuple.index(\"cat\")\n",
        "print(index)"
      ],
      "metadata": {
        "colab": {
          "base_uri": "https://localhost:8080/"
        },
        "id": "GGOdLDSJXiO_",
        "outputId": "de49acf6-6c24-4882-c810-4d4214fec63c"
      },
      "execution_count": 40,
      "outputs": [
        {
          "output_type": "stream",
          "name": "stdout",
          "text": [
            "1\n"
          ]
        }
      ]
    },
    {
      "cell_type": "code",
      "source": [
        "# Q22 Write a code to check if the element \"banana\" is in the tuple ('apple', 'orange', 'banana')\n",
        "\n",
        "tuple=('apple', 'orange', 'banana')\n",
        "if \"banana\" in tuple:\n",
        "  print(\"TRUE\")\n",
        "else:\n",
        "  print(\"FALSE\")"
      ],
      "metadata": {
        "colab": {
          "base_uri": "https://localhost:8080/"
        },
        "id": "3pzh1DNXXspR",
        "outputId": "75462f1c-dc22-4e41-c7e9-0f07dd062d9b"
      },
      "execution_count": 44,
      "outputs": [
        {
          "output_type": "stream",
          "name": "stdout",
          "text": [
            "TRUE\n"
          ]
        }
      ]
    },
    {
      "cell_type": "code",
      "source": [
        "# Q23 Write a code to create a set with the elements 1, 2, 3, 4, 5 and print it\n",
        "\n",
        "set={1,2,3,4,5}\n",
        "print(set)"
      ],
      "metadata": {
        "colab": {
          "base_uri": "https://localhost:8080/"
        },
        "id": "WGScL8XlX2fD",
        "outputId": "eb82b6e5-b2f6-41d2-9b6b-a361532015f0"
      },
      "execution_count": 45,
      "outputs": [
        {
          "output_type": "stream",
          "name": "stdout",
          "text": [
            "{1, 2, 3, 4, 5}\n"
          ]
        }
      ]
    },
    {
      "cell_type": "code",
      "source": [
        "# Q24  Write a code to add the element 6 to the set {1, 2, 3, 4}.\n",
        "set={1,2,3,4}\n",
        "set.add(6)\n",
        "print(set)"
      ],
      "metadata": {
        "colab": {
          "base_uri": "https://localhost:8080/"
        },
        "id": "0XGVI760YGZc",
        "outputId": "7d0b0fa1-1280-4279-80f0-7500dacba281"
      },
      "execution_count": 46,
      "outputs": [
        {
          "output_type": "stream",
          "name": "stdout",
          "text": [
            "{1, 2, 3, 4, 6}\n"
          ]
        }
      ]
    },
    {
      "cell_type": "code",
      "source": [],
      "metadata": {
        "id": "z9eigqCRYRvN"
      },
      "execution_count": null,
      "outputs": []
    }
  ]
}