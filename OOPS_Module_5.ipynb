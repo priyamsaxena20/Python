{
  "nbformat": 4,
  "nbformat_minor": 0,
  "metadata": {
    "colab": {
      "provenance": []
    },
    "kernelspec": {
      "name": "python3",
      "display_name": "Python 3"
    },
    "language_info": {
      "name": "python"
    }
  },
  "cells": [
    {
      "cell_type": "markdown",
      "source": [
        "#Python_Oops_Module_5\n",
        "\n",
        "\n"
      ],
      "metadata": {
        "id": "cNlszTsGXjau"
      }
    },
    {
      "cell_type": "markdown",
      "source": [
        "#Theory_Questions"
      ],
      "metadata": {
        "id": "rSf042TBX4gp"
      }
    },
    {
      "cell_type": "markdown",
      "source": [
        "Q1-What is Object-Oriented Programming?\n",
        "\n",
        "->Object-Oriented Programming (OOP) is like building a house with pre-designed blueprints. Instead of writing every single instruction for every nail and brick, we create blueprints (called classes) that define how different parts of the house (called objects) should look and behave. This makes building more efficient and organized."
      ],
      "metadata": {
        "id": "mvdLHRDxX4jC"
      }
    },
    {
      "cell_type": "markdown",
      "source": [
        "Q2-What is a class in OOP?\n",
        "\n",
        "->In Object-Oriented Programming (OOP), a class is like a blueprint or template that defines the structure and behavior of objects. It specifies the attributes (characteristics) and methods (actions) that objects of that class will possess."
      ],
      "metadata": {
        "id": "T4LG1fgpX4oe"
      }
    },
    {
      "cell_type": "markdown",
      "source": [
        "Q3-What is an object in OOP?\n",
        "\n",
        "->In Object-Oriented Programming (OOP), an object is an instance of a class. It's like a specific example created from the general blueprint provided by the class. Objects have their own unique set of data (attributes or properties) and behaviors (methods or actions)."
      ],
      "metadata": {
        "id": "P-TGEzdLX4q9"
      }
    },
    {
      "cell_type": "markdown",
      "source": [
        "Q4- What is the difference between abstraction and encapsulation?\n",
        "\n",
        "\n",
        "->In Object-Oriented Programming, abstraction focuses on hiding the complex implementation details of an object and presenting only the essential functionalities to the user. Encapsulation, on the other hand, involves bundling data and the methods that operate on that data within a single unit (class), providing controlled access to the data and protecting it from unauthorized modification"
      ],
      "metadata": {
        "id": "pPWyAif4X4tI"
      }
    },
    {
      "cell_type": "markdown",
      "source": [
        "Q5 - What are dunder methods in Python?\n",
        "\n",
        "->In Python, dunder methods, also known as magic methods or special methods, are methods that have double underscores at the beginning and end of their names (e.g., __init__, __str__, __add__). These methods provide a way to customize the behavior of your objects and make them work seamlessly with Python's built-in functions and operators."
      ],
      "metadata": {
        "id": "K5PrappSX4vu"
      }
    },
    {
      "cell_type": "markdown",
      "source": [
        "Q6- Explain the concept of inheritance in OOP?\n",
        "\n",
        "->In Object-Oriented Programming (OOP), inheritance is a mechanism that allows a class to inherit properties and behaviors from another class. This creates a hierarchical relationship between classes, where a derived class (subclass or child class) inherits the characteristics of a base class (superclass or parent class).\n"
      ],
      "metadata": {
        "id": "tb62opk8X4yK"
      }
    },
    {
      "cell_type": "markdown",
      "source": [
        "Q7-What is polymorphism in OOP?\n",
        "\n",
        "->In Object-Oriented Programming (OOP), polymorphism is the ability of objects of different classes to be treated as objects of a common type. This means that you can write code that works with objects of different classes in a uniform way, even though they may have different internal implementations."
      ],
      "metadata": {
        "id": "-pA_zrLQX41e"
      }
    },
    {
      "cell_type": "markdown",
      "source": [
        "Q8- How is encapsulation achieved in Python?\n",
        "\n",
        "->Encapsulation in Python is primarily achieved through conventions and programming practices\n",
        "rather than strict access modifiers like public, private, or protected found in some other languages. There are majorly 2 ways\n",
        "\n",
        "\n",
        "1 By prefixing an attribute or method name with double underscores (__), you indicate that it's intended to be \"private\".\n",
        "\n",
        "2 using setter getter"
      ],
      "metadata": {
        "id": "Cf4zL7QcdIwM"
      }
    },
    {
      "cell_type": "markdown",
      "source": [
        "Q9-What is a constructor in Python?\n",
        "\n",
        "->In Python, a constructor is a special method named __init__ that is automatically called when an object of a class is created. It's used to initialize the object's attributes (variables) with default values or values provided during object creation."
      ],
      "metadata": {
        "id": "rDbYkAB3dI3I"
      }
    },
    {
      "cell_type": "markdown",
      "source": [
        "Q10- What are class and static methods in Python?\n",
        "\n",
        "->Class methods are closely tied to the class and can access and modify class attributes.In class method we need to create object\n",
        "\n",
        "Static methods are more independent and don't have access to the class or instance state.object is not created"
      ],
      "metadata": {
        "id": "OcEG5M9wdI5_"
      }
    },
    {
      "cell_type": "markdown",
      "source": [
        "Q11 -What is method overloading in Python?\n",
        "\n",
        "In Python, method overloading is not directly supported in the same way it is in languages like Java or C++. However we have some other ways which are as follows\n",
        "\n",
        "1-Default Arguments\n",
        "\n",
        "2 Variable-Length Arguments\n",
        "\n",
        "3 Method Overriding (Subclasses)"
      ],
      "metadata": {
        "id": "m7DvaLK2dI8Y"
      }
    },
    {
      "cell_type": "markdown",
      "source": [
        "Q12 What is method overriding in OOP?\n",
        "\n",
        "->In Object-Oriented Programming (OOP), method overriding is a powerful concept that allows a subclass to provide its own specific implementation of a method that is already defined in its superclass."
      ],
      "metadata": {
        "id": "vpO_aeozdI-n"
      }
    },
    {
      "cell_type": "markdown",
      "source": [
        "Q13 What is a property decorator in Python?\n",
        "\n",
        "decorators are a powerful mechanism for creating getter, setter, and deleter methods for attributes of a class. They allow you to control how the attributes of an object are accessed and modified, enhancing encapsulation and making your code more flexible and maintainable.\n"
      ],
      "metadata": {
        "id": "pFkOrKUXdJCK"
      }
    },
    {
      "cell_type": "markdown",
      "source": [
        "Q14 Why is polymorphism important in OOP?\n",
        "\n",
        "polymorphism  is important as\n",
        "\n",
        "Reduces code redundancy\n",
        "\n",
        "Increases code flexibility and extensibility\n",
        "\n",
        "Improves code maintainability\n",
        "\n",
        "Encourages better object-oriented design"
      ],
      "metadata": {
        "id": "FjsHEkxsdJEo"
      }
    },
    {
      "cell_type": "markdown",
      "source": [
        "Q15 What is an abstract class in Python?\n",
        "\n",
        "->In Python, an abstract class is a class that cannot be instantiated directly. It serves as a blueprint for other classes and provides a common interface for them to implement.\n",
        "\n"
      ],
      "metadata": {
        "id": "VzMspKrFdJHG"
      }
    },
    {
      "cell_type": "markdown",
      "source": [
        "Q16  What are the advantages of OOP?\n",
        "\n",
        "->the main advantages are\n",
        " code reusability\n",
        "\n",
        "  flexibility\n",
        "  \n",
        "   data encapsulation\n",
        "   \n",
        "improved organization\n",
        "\n",
        " better problem-solving\n",
        "\n",
        "  enhanced collaboration."
      ],
      "metadata": {
        "id": "qFUn1CENdJJc"
      }
    },
    {
      "cell_type": "markdown",
      "source": [
        "Q17  What is the difference between a class variable and an instance variable?\n",
        "\n",
        "Class Variables: Shared by all instances of the class. Changes to a class variable affect all instances.\n",
        "\n",
        "Instance Variables: Unique to each instance of the class. Changes to one instance's variable do not affect others."
      ],
      "metadata": {
        "id": "X-IslQizdJMF"
      }
    },
    {
      "cell_type": "markdown",
      "source": [
        "Q18 What is multiple inheritance in Python?\n",
        "\n",
        "->Multiple inheritance allows a class to inherit from two or more parent classes. This means a single class can inherit attributes and methods from multiple sources"
      ],
      "metadata": {
        "id": "sbethTgcdJOl"
      }
    },
    {
      "cell_type": "markdown",
      "source": [
        "Q19 Explain the purpose of ‘’__str__’ and ‘__repr__’ ‘ methods in Python?\n",
        "\n",
        "->__str__ provides a user-friendly representation with labels.\n",
        "\n",
        "\n",
        "__repr__ provides a concise representation suitable for developers and can be used to recreate the Point object."
      ],
      "metadata": {
        "id": "bZJ7kxPhdJQ9"
      }
    },
    {
      "cell_type": "markdown",
      "source": [
        "Q20 What is the significance of the ‘super()’ function in Python?\n",
        "\n",
        "->The super() function is essential for working with inheritance in Python. It simplifies method calls to parent classes, helps maintain the correct method resolution order, and promotes better code organization and maintainability."
      ],
      "metadata": {
        "id": "DFfmHtJIdJTb"
      }
    },
    {
      "cell_type": "markdown",
      "source": [
        "Q21  What is the significance of the __del__ method in Python?\n",
        "\n",
        "->The __del__ method in Python, also known as the destructor, is a special method that is called when an object is about to be garbage collected"
      ],
      "metadata": {
        "id": "Cisjen_idJXG"
      }
    },
    {
      "cell_type": "markdown",
      "source": [
        "Q22  What is the difference between @staticmethod and @classmethod in Python?\n",
        "\n",
        "->Static methods are more like utility functions within a class.\n",
        "Class methods have access to the class itself and are often used for class-related operations.\n"
      ],
      "metadata": {
        "id": "pcx1bPsidJZg"
      }
    },
    {
      "cell_type": "markdown",
      "source": [
        "Q23 How does polymorphism work in Python with inheritance?\n",
        "\n",
        "->In Python, this is achieved primarily through inheritance and method overriding\n",
        "\n",
        "A subclass can provide its own specific implementation of a method that is already defined in its parent class.\n",
        "The method in the subclass must have the same name1 and parameters as the method in the parent class.\n"
      ],
      "metadata": {
        "id": "frZkHSAMdJcO"
      }
    },
    {
      "cell_type": "markdown",
      "source": [
        "Q24  What is method chaining in Python OOP?\n",
        "\n",
        "->Method chaining in Python allows you to call multiple methods on the same object in a single line of code. This enhances code readability and can make your code more concise and elegant.\n",
        "\n",
        "\n",
        "Each method returns self: The key to method chaining is that each method in the chain returns the object itself (self"
      ],
      "metadata": {
        "id": "ef9W82_udJex"
      }
    },
    {
      "cell_type": "markdown",
      "source": [
        "Q25 What is the purpose of the __call__ method in Python?\n",
        "\n",
        "->The __call__ method in Python allows you to make instances of a class callable, meaning we can treat them as functions.\n",
        "\n",
        "Key Points:\n",
        "\n",
        "Callable Objects: When we define the __call__ method within a class, we can then call instances of that class directly using parentheses, just like we would call a function."
      ],
      "metadata": {
        "id": "r8LHW6kKdJhZ"
      }
    },
    {
      "cell_type": "markdown",
      "source": [
        "#Practical Questions"
      ],
      "metadata": {
        "id": "X2q722-uh1v_"
      }
    },
    {
      "cell_type": "code",
      "source": [
        "#1. Create a parent class Animal with a method speak() that prints a generic message.\n",
        "# Create a child class Dog that overrides the speak() method to print \"Bark!\".\n",
        "\n",
        "class Animal:\n",
        "  def speak(self):\n",
        "    print(\"generic message\")\n",
        "\n",
        "class Dog(Animal):\n",
        "  def speak(self):\n",
        "    print(\"Bark!\")\n",
        "\n",
        "my_dog=Dog()\n",
        "my_dog.speak()\n",
        ". Write a program to create an abstract class Shape with a method area(). Derive classes Circle and Rectangle\n",
        "from it and implement the area() method in both."
      ],
      "metadata": {
        "colab": {
          "base_uri": "https://localhost:8080/"
        },
        "id": "3_g_R483h9Pv",
        "outputId": "da34e92d-3269-48a0-d422-8da55727487a"
      },
      "execution_count": 3,
      "outputs": [
        {
          "output_type": "stream",
          "name": "stdout",
          "text": [
            "Bark!\n"
          ]
        }
      ]
    },
    {
      "cell_type": "code",
      "source": [
        "#Q2 Write a program to create an abstract class Shape with a method area(). Derive classes Circle and Rectangle\n",
        "# from it and implement the area() method in both.\n",
        "\n",
        "from abc import ABC, abstractmethod\n",
        "\n",
        "class Shape(ABC):\n",
        "    @abstractmethod\n",
        "    def area(self):\n",
        "        pass\n",
        "\n",
        "class Circle(Shape):\n",
        "    def __init__(self, radius):\n",
        "        self.radius = radius\n",
        "\n",
        "    def area(self):\n",
        "        return 3.14159 * self.radius * self.radius\n",
        "\n",
        "class Rectangle(Shape):\n",
        "    def __init__(self, width, height):\n",
        "        self.width = width\n",
        "        self.height = height\n",
        "\n",
        "    def area(self):\n",
        "        return self.width * self.height\n",
        "\n",
        "circle = Circle(5)\n",
        "rectangle = Rectangle(4, 3)\n",
        "\n",
        "print(\"Area of Circle:\", circle.area())\n",
        "print(\"Area of Rectangle:\", rectangle.area())\n",
        "\n"
      ],
      "metadata": {
        "colab": {
          "base_uri": "https://localhost:8080/"
        },
        "id": "UscDtJJtivBw",
        "outputId": "090f12b6-3521-4ad0-8ed1-c5e6b9c9d57a"
      },
      "execution_count": 4,
      "outputs": [
        {
          "output_type": "stream",
          "name": "stdout",
          "text": [
            "Area of Circle: 78.53975\n",
            "Area of Rectangle: 12\n"
          ]
        }
      ]
    },
    {
      "cell_type": "code",
      "source": [
        "# Q3 Implement a multi-level inheritance scenario where a class Vehicle has an attribute type. Derive a class Car\n",
        "# and further derive a class ElectricCar that adds a battery attribute.\n",
        "\n",
        "class Vehicle:\n",
        "    def __init__(self, type):\n",
        "        self.type = type\n",
        "\n",
        "class Car(Vehicle):\n",
        "    def __init__(self, type, brand):\n",
        "        super().__init__(type)\n",
        "        self.brand = brand\n",
        "\n",
        "class ElectricCar(Car):\n",
        "    def __init__(self, type, brand, battery_capacity):\n",
        "        super().__init__(type, brand)\n",
        "        self.battery_capacity = battery_capacity\n",
        "\n",
        "\n",
        "my_car = ElectricCar(\"Electric\", \"Tesla\", 75)\n",
        "print(f\"Type: {my_car.type}\")\n",
        "print(f\"Brand: {my_car.brand}\")\n",
        "print(f\"Battery Capacity: {my_car.battery_capacity}\")"
      ],
      "metadata": {
        "colab": {
          "base_uri": "https://localhost:8080/"
        },
        "id": "VSkBIvSRlJiZ",
        "outputId": "05582101-6463-496a-e63f-8e5da469360c"
      },
      "execution_count": 5,
      "outputs": [
        {
          "output_type": "stream",
          "name": "stdout",
          "text": [
            "Type: Electric\n",
            "Brand: Tesla\n",
            "Battery Capacity: 75\n"
          ]
        }
      ]
    },
    {
      "cell_type": "code",
      "source": [
        "# Q4  Implement a multi-level inheritance scenario where a class Vehicle has an attribute type. Derive a class Car\n",
        "# and further derive a class ElectricCar that adds a battery attribute\n",
        "\n",
        "class Vehicle:\n",
        "    def __init__(self, type):\n",
        "        self.type = type\n",
        "\n",
        "class Car(Vehicle):\n",
        "    def __init__(self, type, brand):\n",
        "        super().__init__(type)\n",
        "        self.brand = brand\n",
        "\n",
        "class ElectricCar(Car):\n",
        "    def __init__(self, type, brand, battery_capacity):\n",
        "        super().__init__(type, brand)\n",
        "        self.battery_capacity = battery_capacity\n",
        "\n",
        "my_car = ElectricCar(\"Electric\", \"Tesla\", 75)\n",
        "\n",
        "print(f\"Type: {my_car.type}\")\n",
        "print(f\"Brand: {my_car.brand}\")\n",
        "print(f\"Battery Capacity: {my_car.battery_capacity}\")"
      ],
      "metadata": {
        "colab": {
          "base_uri": "https://localhost:8080/"
        },
        "id": "BN7QUQwHljm9",
        "outputId": "32c0a8b1-0654-4fbd-c1bd-639e28bcc2b0"
      },
      "execution_count": 8,
      "outputs": [
        {
          "output_type": "stream",
          "name": "stdout",
          "text": [
            "Type: Electric\n",
            "Brand: Tesla\n",
            "Battery Capacity: 75\n"
          ]
        }
      ]
    },
    {
      "cell_type": "code",
      "source": [
        "# Q5  Write a program to demonstrate encapsulation by creating a class BankAccount with private attributes\n",
        "# balance and methods to deposit, withdraw, and check balance.\n",
        "\n",
        "class BankAccount:\n",
        "    def __init__(self, initial_balance=0):\n",
        "        self._balance = initial_balance\n",
        "\n",
        "    def deposit(self, amount):\n",
        "        self._balance += amount\n",
        "\n",
        "    def withdraw(self, amount):\n",
        "        if amount <= self._balance:\n",
        "            self._balance -= amount\n",
        "        else:\n",
        "            print(\"Insufficient balance\")\n",
        "\n",
        "    def check_balance(self):\n",
        "        return self._balance\n",
        "\n",
        "checkme=BankAccount(1000)\n",
        "checkme.deposit(500)\n",
        "checkme.withdraw(200)\n",
        "print(checkme.check_balance())\n"
      ],
      "metadata": {
        "colab": {
          "base_uri": "https://localhost:8080/"
        },
        "id": "JItHut2Gl5wM",
        "outputId": "20afdd12-f786-47bd-f11e-6c657db6d7d3"
      },
      "execution_count": 12,
      "outputs": [
        {
          "output_type": "stream",
          "name": "stdout",
          "text": [
            "1300\n"
          ]
        }
      ]
    },
    {
      "cell_type": "code",
      "source": [
        "# Q6  Demonstrate runtime polymorphism using a method play() in a base class Instrument. Derive classes Guitar\n",
        "# and Piano that implement their own version of play().\n",
        "\n",
        "class Instrument:\n",
        "    def play(self):\n",
        "        pass\n",
        "\n",
        "class Guitar(Instrument):\n",
        "    def play(self):\n",
        "        print(\"Guitar is playing\")\n",
        "\n",
        "class Piano(Instrument):\n",
        "    def play(self):\n",
        "        print(\"Piano is playing\")\n",
        "\n",
        "guitar = Guitar()\n",
        "piano = Piano()\n",
        "\n",
        "guitar.play()\n",
        "piano.play()"
      ],
      "metadata": {
        "colab": {
          "base_uri": "https://localhost:8080/"
        },
        "id": "Lep2WP5VmVy7",
        "outputId": "d327d1e4-0bf3-415d-eecf-d938bc3c8214"
      },
      "execution_count": 13,
      "outputs": [
        {
          "output_type": "stream",
          "name": "stdout",
          "text": [
            "Guitar is playing\n",
            "Piano is playing\n"
          ]
        }
      ]
    },
    {
      "cell_type": "code",
      "source": [
        "# Q7  Create a class MathOperations with a class method add_numbers() to add two numbers and a static\n",
        "# method subtract_numbers() to subtract two numbers.\n",
        "\n",
        "class MathOperations:\n",
        "    @classmethod\n",
        "    def add_numbers(cls, a, b):\n",
        "        return a + b\n",
        "\n",
        "    @staticmethod\n",
        "    def subtract_numbers(a, b):\n",
        "        return a - b\n",
        "\n",
        "result1 = MathOperations.add_numbers(5, 3)\n",
        "result2 = MathOperations.subtract_numbers(10, 4)\n",
        "\n",
        "print(result1)\n",
        "print(result2)\n",
        "\n"
      ],
      "metadata": {
        "colab": {
          "base_uri": "https://localhost:8080/"
        },
        "id": "7CYUdUd9nGX4",
        "outputId": "ff88073e-cb34-4a7b-dc41-94bbdd70e322"
      },
      "execution_count": 14,
      "outputs": [
        {
          "output_type": "stream",
          "name": "stdout",
          "text": [
            "8\n",
            "6\n"
          ]
        }
      ]
    },
    {
      "cell_type": "code",
      "source": [
        "# Q8 Implement a class Person with a class method to count the total number of persons created\n",
        "\n",
        "class Person:\n",
        "    count = 0\n",
        "\n",
        "    def __init__(self, name):\n",
        "        self.name = name\n",
        "        Person.count += 1\n",
        "count = Person.count\n",
        "print(count)\n"
      ],
      "metadata": {
        "colab": {
          "base_uri": "https://localhost:8080/"
        },
        "id": "gtswsX9NnaGB",
        "outputId": "ff6f5c1a-59ec-415f-fa4e-6b23ba20847e"
      },
      "execution_count": 16,
      "outputs": [
        {
          "output_type": "stream",
          "name": "stdout",
          "text": [
            "0\n"
          ]
        }
      ]
    },
    {
      "cell_type": "code",
      "source": [
        "#Q9  Write a class Fraction with attributes numerator and denominator. Override the str method to display the\n",
        "# fraction as \"numerator/denominator\n",
        "\n",
        "\n",
        "class Fraction:\n",
        "    def __init__(self, numerator, denominator):\n",
        "        self.numerator = numerator\n",
        "        self.denominator = denominator\n",
        "\n",
        "    def __str__(self):\n",
        "        return f\"{self.numerator}/{self.denominator}\"\n",
        "\n",
        "fraction = Fraction(3, 4)\n",
        "print(fraction)"
      ],
      "metadata": {
        "colab": {
          "base_uri": "https://localhost:8080/"
        },
        "id": "3Q0w6w_gnqTz",
        "outputId": "ec88ec16-7a6c-4102-a568-2eea24cd57f0"
      },
      "execution_count": 17,
      "outputs": [
        {
          "output_type": "stream",
          "name": "stdout",
          "text": [
            "3/4\n"
          ]
        }
      ]
    },
    {
      "cell_type": "code",
      "source": [
        "# Q10 Demonstrate operator overloading by creating a class Vector and overriding the add method to add two vectors\n",
        "\n",
        "\n",
        "class Vector:\n",
        "    def __init__(self, x, y):\n",
        "        self.x = x\n",
        "        self.y = y\n",
        "\n",
        "    def __add__(self, other):\n",
        "        return Vector(self.x + other.x, self.y + other.y)\n",
        "\n",
        "    def __str__(self):\n",
        "        return f\"({self.x}, {self.y})\"\n",
        "\n",
        "v1 = Vector(2, 3)\n",
        "v2 = Vector(1, -1)\n",
        "\n",
        "result = v1 + v2\n",
        "print(f\"v1: {v1}\")\n",
        "print(f\"v2: {v2}\")\n",
        "print(f\"v1 + v2: {result}\")"
      ],
      "metadata": {
        "colab": {
          "base_uri": "https://localhost:8080/"
        },
        "id": "oiq_rOkUoPqE",
        "outputId": "3dfbc543-5772-4f90-c58f-642354b89dce"
      },
      "execution_count": 18,
      "outputs": [
        {
          "output_type": "stream",
          "name": "stdout",
          "text": [
            "v1: (2, 3)\n",
            "v2: (1, -1)\n",
            "v1 + v2: (3, 2)\n"
          ]
        }
      ]
    },
    {
      "cell_type": "code",
      "source": [
        "# Q11 Create a class Person with attributes name and age. Add a method greet() that prints \"Hello, my name is\n",
        "# {name} and I am {age} years old.\"\n",
        "\n",
        "class Person:\n",
        "    def __init__(self, name, age):\n",
        "        self.name = name\n",
        "        self.age = age\n",
        "\n",
        "    def greet(self):\n",
        "        print(f\"Hello, my name is {self.name} and I am {self.age} years old.\")\n",
        "\n",
        "person1 = Person(\"Priyam\", 24)\n",
        "\n",
        "person1.greet()\n",
        "\n",
        "\n"
      ],
      "metadata": {
        "colab": {
          "base_uri": "https://localhost:8080/"
        },
        "id": "l3zsI_wpoyZO",
        "outputId": "2f663a0a-7b24-4a47-f9ad-1fac92ea2973"
      },
      "execution_count": 20,
      "outputs": [
        {
          "output_type": "stream",
          "name": "stdout",
          "text": [
            "Hello, my name is Priyam and I am 24 years old.\n"
          ]
        }
      ]
    },
    {
      "cell_type": "code",
      "source": [
        "# Q12 Implement a class Student with attributes name and grades. Create a method average_grade() to compute\n",
        "# the average of the grades.\n",
        "\n",
        "class Student:\n",
        "    def __init__(self, name, grades):\n",
        "        self.name = name\n",
        "        self.grades = grades\n",
        "\n",
        "    def average_grade(self):\n",
        "        if len(self.grades) == 0:\n",
        "            return 0\n",
        "        return sum(self.grades) / len(self.grades)\n",
        "\n",
        "student1 = Student(\"Priyam\", [90, 85, 92, 88])\n",
        "\n",
        "average = student1.average_grade()\n",
        "print(f\"Average grade for {student1.name}: {average:.2f}\")"
      ],
      "metadata": {
        "colab": {
          "base_uri": "https://localhost:8080/"
        },
        "id": "kSvuXO_MpOHF",
        "outputId": "0ca6d065-6f2f-4be3-d837-5a558137af78"
      },
      "execution_count": 21,
      "outputs": [
        {
          "output_type": "stream",
          "name": "stdout",
          "text": [
            "Average grade for Priyam: 88.75\n"
          ]
        }
      ]
    },
    {
      "cell_type": "code",
      "source": [
        "# Q13  Create a class Rectangle with methods set_dimensions() to set the dimensions and area() to calculate the area\n",
        "\n",
        "class Rectangle:\n",
        "    def __init__(self):\n",
        "        self.width = 0\n",
        "        self.height = 0\n",
        "\n",
        "    def set_dimensions(self, width, height):\n",
        "        self.width = width\n",
        "        self.height = height\n",
        "\n",
        "    def area(self):\n",
        "        return self.width * self.height\n",
        "rectangle = Rectangle()\n",
        "\n",
        "rectangle.set_dimensions(5, 3)\n",
        "\n",
        "area = rectangle.area()\n",
        "print(f\"Area of the rectangle: {area}\")"
      ],
      "metadata": {
        "colab": {
          "base_uri": "https://localhost:8080/"
        },
        "id": "KcHZaPmupqBd",
        "outputId": "248fbd40-3d3a-4459-e9a9-08c7d7deb482"
      },
      "execution_count": 22,
      "outputs": [
        {
          "output_type": "stream",
          "name": "stdout",
          "text": [
            "Area of the rectangle: 15\n"
          ]
        }
      ]
    },
    {
      "cell_type": "code",
      "source": [
        "# Q14  Create a class Employee with a method calculate_salary() that computes the salary based on hours worked\n",
        "# and hourly rate. Create a derived class Manager that adds a bonus to the salary.\n",
        "\n",
        "class Employee:\n",
        "    def __init__(self, hourly_rate):\n",
        "        self.hourly_rate = hourly_rate\n",
        "\n",
        "    def calculate_salary(self, hours_worked):\n",
        "        return hours_worked * self.hourly_rate\n",
        "\n",
        "class Manager(Employee):\n",
        "    def __init__(self, hourly_rate, bonus):\n",
        "        super().__init__(hourly_rate)\n",
        "        self.bonus = bonus\n",
        "\n",
        "    def calculate_salary(self, hours_worked):\n",
        "        base_salary = super().calculate_salary(hours_worked)\n",
        "        return base_salary + self.bonus\n",
        "\n",
        "\n",
        "employee = Employee(25)\n",
        "manager = Manager(30, 500)\n",
        "employee_salary = employee.calculate_salary(40)\n",
        "manager_salary = manager.calculate_salary(40)\n",
        "\n",
        "print(f\"Employee Salary: ${employee_salary}\")\n",
        "print(f\"Manager Salary: ${manager_salary}\")"
      ],
      "metadata": {
        "colab": {
          "base_uri": "https://localhost:8080/"
        },
        "id": "886velpfqF4b",
        "outputId": "455237dc-9c77-4640-d737-c384dc5cad02"
      },
      "execution_count": 23,
      "outputs": [
        {
          "output_type": "stream",
          "name": "stdout",
          "text": [
            "Employee Salary: $1000\n",
            "Manager Salary: $1700\n"
          ]
        }
      ]
    },
    {
      "cell_type": "code",
      "source": [
        "#Q15  Create a class Product with attributes name, price, and quantity. Implement a method total_price() that\n",
        "# calculates the total price of the product.\n",
        "\n",
        "class Product:\n",
        "    def __init__(self, name, price, quantity):\n",
        "        self.name = name\n",
        "        self.price = price\n",
        "        self.quantity = quantity\n",
        "\n",
        "    def total_price(self):\n",
        "        return self.price * self.quantity\n",
        "\n",
        "\n",
        "product1 = Product(\"Laptop\", 1200, 2)\n",
        "total_price1 = product1.total_price()\n",
        "print(f\"Total price of {product1.name}: ${total_price1}\")\n",
        "\n",
        "product2 = Product(\"Phone\", 800, 1)\n",
        "total_price2 = product2.total_price()\n",
        "print(f\"Total price of {product2.name}: ${total_price2}\")\n",
        "\n",
        "\n"
      ],
      "metadata": {
        "colab": {
          "base_uri": "https://localhost:8080/"
        },
        "id": "C40k6lbVqomz",
        "outputId": "039fd9c4-2d13-4830-f712-79a5c481171c"
      },
      "execution_count": 24,
      "outputs": [
        {
          "output_type": "stream",
          "name": "stdout",
          "text": [
            "Total price of Laptop: $2400\n",
            "Total price of Phone: $800\n"
          ]
        }
      ]
    },
    {
      "cell_type": "code",
      "source": [
        "#Q16  Create a class Animal with an abstract method sound(). Create two derived classes Cow and Sheep that\n",
        "# implement the sound() method.\n",
        "\n",
        "from abc import ABC, abstractmethod\n",
        "\n",
        "class Animal(ABC):\n",
        "    @abstractmethod\n",
        "    def sound(self):\n",
        "        pass\n",
        "\n",
        "class Cow(Animal):\n",
        "    def sound(self):\n",
        "        print(\"Moo\")\n",
        "\n",
        "class Sheep(Animal):\n",
        "    def sound(self):\n",
        "        print(\"Baa\")\n",
        "\n",
        "\n",
        "cow = Cow()\n",
        "sheep = Sheep()\n",
        "\n",
        "\n",
        "cow.sound()\n",
        "sheep.sound()"
      ],
      "metadata": {
        "colab": {
          "base_uri": "https://localhost:8080/"
        },
        "id": "vTJcBl3Tq5Vs",
        "outputId": "931c3178-9109-4dd0-d682-2571a4c0c407"
      },
      "execution_count": 25,
      "outputs": [
        {
          "output_type": "stream",
          "name": "stdout",
          "text": [
            "Moo\n",
            "Baa\n"
          ]
        }
      ]
    },
    {
      "cell_type": "code",
      "source": [
        "# Q17 Create a class Book with attributes title, author, and year_published. Add a method get_book_info() that\n",
        "# returns a formatted string with the book's details.\n",
        "\n",
        "class Book:\n",
        "    def __init__(self, title, author, year_published):\n",
        "        self.title = title\n",
        "        self.author = author\n",
        "        self.year_published = year_published\n",
        "\n",
        "    def get_book_info(self):\n",
        "        return f\"Title: {self.title}, Author: {self.author}, Year Published: {self.year_published}\"\n",
        "\n",
        "book1 = Book(\"The Lord of the Rings\", \"J.R.R. Tolkien\", 1954)\n",
        "\n",
        "book_info = book1.get_book_info()\n",
        "print(book_info)"
      ],
      "metadata": {
        "colab": {
          "base_uri": "https://localhost:8080/"
        },
        "id": "C4J8x4vzrJ4Y",
        "outputId": "205f60cd-97f5-4c56-ed5f-b29e576d5141"
      },
      "execution_count": 26,
      "outputs": [
        {
          "output_type": "stream",
          "name": "stdout",
          "text": [
            "Title: The Lord of the Rings, Author: J.R.R. Tolkien, Year Published: 1954\n"
          ]
        }
      ]
    },
    {
      "cell_type": "code",
      "source": [
        "# Q18 Create a class House with attributes address and price. Create a derived class Mansion that adds an\n",
        "# attribute number_of_rooms.\n",
        "\n",
        "class House:\n",
        "    def __init__(self, address, price):\n",
        "        self.address = address\n",
        "        self.price = price\n",
        "\n",
        "class Mansion(House):\n",
        "    def __init__(self, address, price, number_of_rooms):\n",
        "        super().__init__(address, price)\n",
        "        self.number_of_rooms = number_of_rooms\n",
        "\n",
        "mansion = Mansion(\"123 Luxury Lane\", 1000000, 10)\n",
        "\n",
        "print(f\"Address: {mansion.address}\")\n",
        "print(f\"Price: ${mansion.price}\")\n",
        "print(f\"Number of Rooms: {mansion.number_of_rooms}\")"
      ],
      "metadata": {
        "colab": {
          "base_uri": "https://localhost:8080/"
        },
        "id": "CwZO8D76raBj",
        "outputId": "4ec82543-9148-4175-f42e-b12153ecfe09"
      },
      "execution_count": 28,
      "outputs": [
        {
          "output_type": "stream",
          "name": "stdout",
          "text": [
            "Address: 123 Luxury Lane\n",
            "Price: $1000000\n",
            "Number of Rooms: 10\n"
          ]
        }
      ]
    },
    {
      "cell_type": "code",
      "source": [],
      "metadata": {
        "id": "h6pk7kK4rp4e"
      },
      "execution_count": null,
      "outputs": []
    }
  ]
}