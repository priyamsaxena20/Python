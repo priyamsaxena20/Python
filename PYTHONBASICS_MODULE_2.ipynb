{
  "nbformat": 4,
  "nbformat_minor": 0,
  "metadata": {
    "colab": {
      "provenance": []
    },
    "kernelspec": {
      "name": "python3",
      "display_name": "Python 3"
    },
    "language_info": {
      "name": "python"
    }
  },
  "cells": [
    {
      "cell_type": "markdown",
      "source": [
        "#PYTHON_BASICS_MODULE_2\n",
        "\n",
        "\n"
      ],
      "metadata": {
        "id": "4Oq_wmKNQaJt"
      }
    },
    {
      "cell_type": "markdown",
      "source": [
        "#Theory Questions"
      ],
      "metadata": {
        "id": "aLEV9y9MZ_Z5"
      }
    },
    {
      "cell_type": "markdown",
      "source": [
        "Q1- What is Python, and why is it popular\n",
        "\n",
        "   -> Python is a high-level, interpreted programming language known for its\n",
        "      simplicity, readability, and versatility. Created by Guido van Rossum in 1991, Python emphasizes code readability with its clean and easy-to-understand syntax.Few Points why python is famous is because\n",
        "\n",
        "\n",
        "\n",
        "      1- Its is beginer friendly\n",
        "      2- It have many libraries\n",
        "      3-It have a big comunnity support\n",
        "      4- It is open source"
      ],
      "metadata": {
        "id": "nTs9EaYKRbLY"
      }
    },
    {
      "cell_type": "markdown",
      "source": [
        "  Q2-What is an interpreter in Python\n",
        "\n",
        "  -> An interpreter in Python is a program that executes Python code\n",
        "     directly, line by line, rather than converting it all into machine code at once . It reads the code, interprets it, and performs the instructions specified in the Python script."
      ],
      "metadata": {
        "id": "iI4akxnSTHo_"
      }
    },
    {
      "cell_type": "markdown",
      "source": [
        "Q3-What are pre-defined keywords in Python\n",
        "\n",
        "->Pre-defined keywords in Python are reserved words that have specific meanings and purposes in the language. They are part of Python's syntax and cannot be used as variable names, function names, or identifiers in your program. These keywords enable Python to understand and execute your code correctly some examples are if,else,true,flase"
      ],
      "metadata": {
        "id": "06_KeNJiUgUL"
      }
    },
    {
      "cell_type": "markdown",
      "source": [
        "Q4- Can keywords be used as variable names\n",
        "\n",
        "-> No, keywords cannot be used as variable names in Python. Keywords are\n",
        "   reserved for specific purposes in the language and are part of Python's syntax. Using a keyword as a variable name will result in a SyntaxError because the interpreter will not be able to distinguish between its predefined function and our intended use"
      ],
      "metadata": {
        "id": "p5UXUFNAU5vi"
      }
    },
    {
      "cell_type": "markdown",
      "source": [
        "  Q5 What is mutability in Python\n",
        "\n",
        "  ->Mutability in Python refers to the ability of an object to be modified after it has been created. Depending on whether their content can be changed, Python objects are classified as either mutable or immutable example is LIST\n"
      ],
      "metadata": {
        "id": "mwjooMefU53d"
      }
    },
    {
      "cell_type": "markdown",
      "source": [
        "Q6 Why are lists mutable, but tuples are immutable\n",
        "\n",
        "->The difference between the mutability of lists and the immutability of tuples in Python arises from their design purposes and Use case as\n",
        "\n",
        "Lists:\n",
        "Designed to hold a collection of items that might change during the program's execution.They allow dynamic operations such as adding, removing, or updating elements.\n",
        "\n",
        "but on the other hand\n",
        "\n",
        "Tuples:\n",
        "Created for situations where the data should remain constant or protected from accidental modification."
      ],
      "metadata": {
        "id": "L6m-XemuU56P"
      }
    },
    {
      "cell_type": "markdown",
      "source": [
        "Q7-What is the difference between “==” and “is” operators in Python?\n",
        "\n",
        "->The == operator checks whether two objects have the same value (content),\n",
        "  while the is operator checks whether two objects refer to the same memory location (identity). For example, [1, 2, 3] == [1, 2, 3] is True because the values are the same, but [1, 2, 3] is [1, 2, 3] is False because they are different objects in memory."
      ],
      "metadata": {
        "id": "0RLuiac-U584"
      }
    },
    {
      "cell_type": "markdown",
      "source": [
        "Q8-What are logical operators in Python\n",
        "\n",
        "->Logical operators in Python are used to combine conditional statements and\n",
        "     evaluate Boolean expressions. The three main logical operators are and, or, and not. The and operator returns True if both conditions are True, while or returns True if at least one condition is True. The not operator reverses the Boolean value, turning True into False and vice versa. These operators help create more complex conditions for decision-making in Python programs.\n"
      ],
      "metadata": {
        "id": "KFKcaIGgU5_c"
      }
    },
    {
      "cell_type": "markdown",
      "source": [
        "Q9  What is type casting in Python\n",
        "\n",
        "->Type casting in Python refers to the process of converting one data type into another. It allows you to change the type of a variable to a different type to perform specific operations."
      ],
      "metadata": {
        "id": "lTwAQLZHU6B5"
      }
    },
    {
      "cell_type": "markdown",
      "source": [
        "Q 10 What is the difference between implicit and explicit type casting\n",
        "\n",
        "->Python provides two types of type casting: implicit and explicit. Implicit type casting is done automatically by Python when converting smaller data types to larger ones, such as from int to float. Explicit type casting, on the other hand, is done using functions like int(), float(), or str() to convert one data type to another explicitly. For example, float(10) converts the integer 10 to a floating-point number 10.0.\n"
      ],
      "metadata": {
        "id": "ZePBTy90U6D4"
      }
    },
    {
      "cell_type": "markdown",
      "source": [
        "Q11 What is the purpose of conditional statements in PythoN\n",
        "\n",
        "->\n",
        "Conditional statements in Python are used to make decisions in the code based on certain conditions. They allow the program to execute different blocks of code depending on whether a condition is True or False. The most common conditional statements are if, elif, and else. The if statement checks a condition and executes the corresponding block of code if the condition is True. The elif statement allows checking additional conditions if the previous ones are False, and the else statement provides a block of code that runs when all conditions are False. Conditional statements are essential for controlling the flow of a program based on dynamic conditions.\n"
      ],
      "metadata": {
        "id": "DCPdWVcYU6F-"
      }
    },
    {
      "cell_type": "markdown",
      "source": [
        "Q12  How does the elif statement work\n",
        "\n",
        "->The elif (short for \"else if\") statement in Python is used to check multiple conditions in a sequence, following an initial if statement. If the condition in the if statement is False, Python evaluates the condition in the elif statement. If the elif condition is True, the corresponding block of code is executed. If the elif condition is False, Python moves on to the next elif (if any) or executes the else block if provided. The elif statement allows you to check multiple conditions in a clear and efficient manner, avoiding the need for nested if statements.\n"
      ],
      "metadata": {
        "id": "B1S8CCSzU6Jg"
      }
    },
    {
      "cell_type": "markdown",
      "source": [
        "  Q 13 What is the difference between for and while loops\n",
        "\n",
        "  ->The key difference between for and while loops in Python lies in how they control iteration. A for loop is used to iterate over a sequence (like a list, tuple, or range), and it runs a specific number of times based on the sequence's length. It's ideal when the number of iterations is known beforehand. For example, for i in range(5): will loop five times.\n",
        "\n",
        "   In contrast, a while loop runs as long as a specified condition remains True. It’s suitable when the number of iterations is not known ahead of time and depends on dynamic conditions. For example, while x < 5: will continue looping until the condition x < 5 is no longer true.\n"
      ],
      "metadata": {
        "id": "kocsdOwKY01f"
      }
    },
    {
      "cell_type": "markdown",
      "source": [
        "Q 14  Describe a scenario where a while loop is more suitable than a for loop\n",
        "\n",
        "->A while loop is more suitable than a for loop when you don’t know how many times the loop should run, but it depends on a condition that is checked during each loop. For example, if you want to keep asking the user for input until they type \"exit,\" you would use a while loop. The loop will keep running until the condition (user typing \"exit\") is met. Since you don’t know how many times the user will input, a while loop works best in this case."
      ],
      "metadata": {
        "id": "AKqPauOMY0_s"
      }
    },
    {
      "cell_type": "markdown",
      "source": [
        "#Practical Questions\n",
        "\n",
        "\n",
        "\n"
      ],
      "metadata": {
        "id": "16MXLijHZ7Hd"
      }
    },
    {
      "cell_type": "code",
      "source": [
        "#1 Write a Python program to print \"Hello, World!_\n",
        "\n",
        "print(\"Hello, World_\")"
      ],
      "metadata": {
        "colab": {
          "base_uri": "https://localhost:8080/"
        },
        "id": "j8SfBxGWZ9sF",
        "outputId": "8bc210fa-ff4c-459d-8f41-6f225896818f"
      },
      "execution_count": 1,
      "outputs": [
        {
          "output_type": "stream",
          "name": "stdout",
          "text": [
            "Hello, World_\n"
          ]
        }
      ]
    },
    {
      "cell_type": "code",
      "source": [
        "#2 Write a Python program that displays your name and age\n",
        "\n",
        "name = input(\"enter your name: \")\n",
        "age =int(input(\"enter youtr age: \"))\n",
        "print(\"my name is  \"+ name +\" and age is \"+ str(age))"
      ],
      "metadata": {
        "colab": {
          "base_uri": "https://localhost:8080/"
        },
        "id": "WAOJs62nbANQ",
        "outputId": "6766e33d-69b2-4d9d-f4cf-1cdb9030254c"
      },
      "execution_count": 8,
      "outputs": [
        {
          "output_type": "stream",
          "name": "stdout",
          "text": [
            "enter your name: Priyam\n",
            "enter youtr age: 24\n",
            "my name is  Priyam and age is 24\n"
          ]
        }
      ]
    },
    {
      "cell_type": "code",
      "source": [
        "#3 Write code to print all the pre-defined keywords in Python using the keyword library\n",
        "\n",
        "import keyword\n",
        "print(keyword.kwlist)\n"
      ],
      "metadata": {
        "colab": {
          "base_uri": "https://localhost:8080/"
        },
        "id": "QxkLeUm3b2Fg",
        "outputId": "8d6eb5f1-fa37-42e4-fd99-6a99cf83a0e5"
      },
      "execution_count": 10,
      "outputs": [
        {
          "output_type": "stream",
          "name": "stdout",
          "text": [
            "['False', 'None', 'True', 'and', 'as', 'assert', 'async', 'await', 'break', 'class', 'continue', 'def', 'del', 'elif', 'else', 'except', 'finally', 'for', 'from', 'global', 'if', 'import', 'in', 'is', 'lambda', 'nonlocal', 'not', 'or', 'pass', 'raise', 'return', 'try', 'while', 'with', 'yield']\n"
          ]
        }
      ]
    },
    {
      "cell_type": "code",
      "source": [
        "#4 Write a program that checks if a given word is a Python keyword\n",
        "import keyword\n",
        "word= input(\"enter the word: \")\n",
        "if word in keyword.kwlist:\n",
        "  print(\"it is a keyword\")\n",
        "else:\n",
        "  print(\"it is not a keyword\")\n"
      ],
      "metadata": {
        "colab": {
          "base_uri": "https://localhost:8080/"
        },
        "id": "b8srGWMjbnu9",
        "outputId": "dc055a12-f1fc-4077-cfe7-3974268d5845"
      },
      "execution_count": 14,
      "outputs": [
        {
          "output_type": "stream",
          "name": "stdout",
          "text": [
            "enter the word: sun\n",
            "it is not a keyword\n"
          ]
        }
      ]
    },
    {
      "cell_type": "code",
      "source": [
        "#5 Create a list and tuple in Python, and demonstrate how attempting to change an element works differently for each\n",
        "\n",
        "mylist=[\"ram\",\"sham\",1,3,2.5]\n",
        "mylist[0]=\"hari\"\n",
        "print(mylist)\n",
        "\n",
        "mytuple=(\"ram\",\"sham\",1,3,2.5)\n",
        "mytuple[0]=\"hari\"\n",
        "print(mytuple)\n",
        "\n",
        "# TypeError: 'tuple' object does not support item assignmentbecause they are unmutable\n"
      ],
      "metadata": {
        "colab": {
          "base_uri": "https://localhost:8080/",
          "height": 228
        },
        "id": "4EDgznTNc6tm",
        "outputId": "d599f997-7c96-4def-9563-8a7d0ee6dd52"
      },
      "execution_count": 18,
      "outputs": [
        {
          "output_type": "stream",
          "name": "stdout",
          "text": [
            "['hari', 'sham', 1, 3, 2.5]\n"
          ]
        },
        {
          "output_type": "error",
          "ename": "TypeError",
          "evalue": "'tuple' object does not support item assignment",
          "traceback": [
            "\u001b[0;31m---------------------------------------------------------------------------\u001b[0m",
            "\u001b[0;31mTypeError\u001b[0m                                 Traceback (most recent call last)",
            "\u001b[0;32m<ipython-input-18-94afe0162f09>\u001b[0m in \u001b[0;36m<cell line: 8>\u001b[0;34m()\u001b[0m\n\u001b[1;32m      6\u001b[0m \u001b[0;34m\u001b[0m\u001b[0m\n\u001b[1;32m      7\u001b[0m \u001b[0mmytuple\u001b[0m\u001b[0;34m=\u001b[0m\u001b[0;34m(\u001b[0m\u001b[0;34m\"ram\"\u001b[0m\u001b[0;34m,\u001b[0m\u001b[0;34m\"sham\"\u001b[0m\u001b[0;34m,\u001b[0m\u001b[0;36m1\u001b[0m\u001b[0;34m,\u001b[0m\u001b[0;36m3\u001b[0m\u001b[0;34m,\u001b[0m\u001b[0;36m2.5\u001b[0m\u001b[0;34m)\u001b[0m\u001b[0;34m\u001b[0m\u001b[0;34m\u001b[0m\u001b[0m\n\u001b[0;32m----> 8\u001b[0;31m \u001b[0mmytuple\u001b[0m\u001b[0;34m[\u001b[0m\u001b[0;36m0\u001b[0m\u001b[0;34m]\u001b[0m\u001b[0;34m=\u001b[0m\u001b[0;34m\"hari\"\u001b[0m\u001b[0;34m\u001b[0m\u001b[0;34m\u001b[0m\u001b[0m\n\u001b[0m\u001b[1;32m      9\u001b[0m \u001b[0mprint\u001b[0m\u001b[0;34m(\u001b[0m\u001b[0mmytuple\u001b[0m\u001b[0;34m)\u001b[0m\u001b[0;34m\u001b[0m\u001b[0;34m\u001b[0m\u001b[0m\n\u001b[1;32m     10\u001b[0m \u001b[0;34m\u001b[0m\u001b[0m\n",
            "\u001b[0;31mTypeError\u001b[0m: 'tuple' object does not support item assignment"
          ]
        }
      ]
    },
    {
      "cell_type": "code",
      "source": [
        "#6 Write a function to demonstrate the behavior of mutable and immutable arguments\n",
        "def modify():\n",
        "\n",
        "  mylist=[\"ram\",\"sham\",1,3,2.5]\n",
        "  mylist[0]=\"hari\"\n",
        "  print(\"Modified list:\", mylist)\n",
        "\n",
        "  mytuple=(\"ram\",\"sham\",1,3,2.5)\n",
        "  try:\n",
        "    mytuple[0]=\"hari\"\n",
        "  except TypeError:\n",
        "    print(\"Its tuple we cannot modily as they are unmutable in nature\")\n",
        "\n",
        "modify()\n"
      ],
      "metadata": {
        "colab": {
          "base_uri": "https://localhost:8080/"
        },
        "id": "VeO3TRSUc6wY",
        "outputId": "df6c0e86-a819-43ce-b1bf-fdf362dafb70"
      },
      "execution_count": 26,
      "outputs": [
        {
          "output_type": "stream",
          "name": "stdout",
          "text": [
            "Modified list: ['hari', 'sham', 1, 3, 2.5]\n",
            "Its tuple we cannot modily as they are unmutable in nature\n"
          ]
        }
      ]
    },
    {
      "cell_type": "code",
      "source": [
        "\n",
        "#7 Write a function to demonstrate the behavior of mutable and immutable arguments\n",
        "def modify():\n",
        "\n",
        "  mylist=[\"ram\",\"sham\",1,3,2.5]\n",
        "  mylist[0]=\"hari\"\n",
        "  print(\"Modified list:\", mylist)\n",
        "\n",
        "  mytuple=(\"ram\",\"sham\",1,3,2.5)\n",
        "  try:\n",
        "    mytuple[0]=\"hari\"\n",
        "  except TypeError:\n",
        "    print(\"Its tuple we cannot modily as they are unmutable in nature\")\n",
        "\n",
        "modify()\n",
        "\n"
      ],
      "metadata": {
        "colab": {
          "base_uri": "https://localhost:8080/"
        },
        "id": "6z-w_iHKc6zx",
        "outputId": "596300a4-67ef-4d74-b1e0-8ac74dbde1d9"
      },
      "execution_count": 27,
      "outputs": [
        {
          "output_type": "stream",
          "name": "stdout",
          "text": [
            "Modified list: ['hari', 'sham', 1, 3, 2.5]\n",
            "Its tuple we cannot modily as they are unmutable in nature\n"
          ]
        }
      ]
    },
    {
      "cell_type": "code",
      "source": [
        "#8 Write a program to demonstrate the use of logical operators\n",
        "\n",
        "myList = [1, 2, 3, 4, 5, 6, 7, 8, 9, 10, 11, 12, 13, 14, 15]\n",
        "for i in myList:\n",
        "    if i % 2 == 0 and i % 3 == 0:\n",
        "        print(i)\n",
        "print(\"\")\n",
        "myList = [1, 2, 3, 4, 5, 6, 7, 8, 9, 10, 11, 12, 13, 14, 15]\n",
        "for i in myList:\n",
        "    if i % 2 == 0 or i % 3 == 0:\n",
        "        print(i)\n",
        "print(\"\")\n",
        "\n",
        "myList = [1, 2, 3, 4, 5, 6, 7, 8, 9, 10, 11, 12, 13, 14, 15]\n",
        "for i in myList:\n",
        "    if not (i % 2 == 0 or i % 3 == 0):\n",
        "        print(i)"
      ],
      "metadata": {
        "colab": {
          "base_uri": "https://localhost:8080/"
        },
        "id": "muJr4F6-c62O",
        "outputId": "30f565cd-1896-4f75-9661-8993ad27879b"
      },
      "execution_count": 46,
      "outputs": [
        {
          "output_type": "stream",
          "name": "stdout",
          "text": [
            "6\n",
            "12\n",
            "\n",
            "2\n",
            "3\n",
            "4\n",
            "6\n",
            "8\n",
            "9\n",
            "10\n",
            "12\n",
            "14\n",
            "15\n",
            "\n",
            "1\n",
            "5\n",
            "7\n",
            "11\n",
            "13\n"
          ]
        }
      ]
    },
    {
      "cell_type": "code",
      "source": [
        "#9  Write a Python program to convert user input from string to integer, float, and boolean types\n",
        "\n",
        "userinput=input(\"enter the value: \")\n",
        "\n",
        "print(type(userinput))\n",
        "\n",
        "userinput=int(userinput)\n",
        "print(type(userinput))\n",
        "\n",
        "userinput=float(userinput)\n",
        "print(type(userinput))\n",
        "\n",
        "userinput=bool(userinput)\n",
        "print(type(userinput))"
      ],
      "metadata": {
        "colab": {
          "base_uri": "https://localhost:8080/"
        },
        "id": "w1uiWAqhc64h",
        "outputId": "6b6d1486-51bf-44bc-e6e5-3af7544b69f7"
      },
      "execution_count": 48,
      "outputs": [
        {
          "output_type": "stream",
          "name": "stdout",
          "text": [
            "enter the value: 67\n",
            "<class 'str'>\n",
            "<class 'int'>\n",
            "<class 'float'>\n",
            "<class 'bool'>\n"
          ]
        }
      ]
    },
    {
      "cell_type": "code",
      "source": [
        "#10  Write code to demonstrate type casting with list elements\n",
        "\n",
        "mylist = ['1', '2', '3', '4','5', '6']\n",
        "\n",
        "newlist=[int(i) for i in mylist]\n",
        "print(newlist)"
      ],
      "metadata": {
        "colab": {
          "base_uri": "https://localhost:8080/"
        },
        "id": "JPeLfwAmc660",
        "outputId": "e5ec53ec-9d88-4f06-90fe-92333b5badd6"
      },
      "execution_count": 50,
      "outputs": [
        {
          "output_type": "stream",
          "name": "stdout",
          "text": [
            "[1, 2, 3, 4, 5, 6]\n"
          ]
        }
      ]
    },
    {
      "cell_type": "code",
      "source": [
        "#11 Write a program that checks if a number is positive, negative, or zero\n",
        "\n",
        "num=int(input(\"enter the number:\"))\n",
        "if num>0:\n",
        "  print(\"number is positive\")\n",
        "elif num<0:\n",
        "  print(\"number is negative\")\n",
        "else:\n",
        "  print(\"number is 0\")"
      ],
      "metadata": {
        "colab": {
          "base_uri": "https://localhost:8080/"
        },
        "id": "wy7q-0Joc69A",
        "outputId": "7d6787f0-9cf7-4730-ed97-4711f128b713"
      },
      "execution_count": 56,
      "outputs": [
        {
          "output_type": "stream",
          "name": "stdout",
          "text": [
            "enter the number:-8\n",
            "number is negative\n"
          ]
        }
      ]
    },
    {
      "cell_type": "code",
      "source": [
        "#12 Write a for loop to print numbers from 1 to 10\n",
        "\n",
        "\n",
        "for i in range(1,11):\n",
        "  print(\"\")\n",
        "  print(i)"
      ],
      "metadata": {
        "colab": {
          "base_uri": "https://localhost:8080/"
        },
        "id": "UbfoU3BLc7BZ",
        "outputId": "68055b0f-9351-4e11-fcc4-fb3a74e35cde"
      },
      "execution_count": 62,
      "outputs": [
        {
          "output_type": "stream",
          "name": "stdout",
          "text": [
            "\n",
            "1\n",
            "\n",
            "2\n",
            "\n",
            "3\n",
            "\n",
            "4\n",
            "\n",
            "5\n",
            "\n",
            "6\n",
            "\n",
            "7\n",
            "\n",
            "8\n",
            "\n",
            "9\n",
            "\n",
            "10\n"
          ]
        }
      ]
    },
    {
      "cell_type": "code",
      "source": [
        "#13 Write a Python program to find the sum of all even numbers between 1 and 50\n",
        "\n",
        "sum=0\n",
        "for i in range(1,51):\n",
        "  if(i%2==0):\n",
        "      sum=sum+i\n",
        "\n",
        "print(\"the sum od all even natural from 1 to 50 is \",sum)\n"
      ],
      "metadata": {
        "colab": {
          "base_uri": "https://localhost:8080/"
        },
        "id": "K8KpDYXNc7FQ",
        "outputId": "3f6bcdf0-52f7-4bbf-df00-057dac6bfe6a"
      },
      "execution_count": 66,
      "outputs": [
        {
          "output_type": "stream",
          "name": "stdout",
          "text": [
            "the sum od all even natural from 1 to 50 is  650\n"
          ]
        }
      ]
    },
    {
      "cell_type": "code",
      "source": [
        "#14 Write a program to reverse a string using a while loop\n",
        "s = input(\"Enter a string: \")\n",
        "reversed_str = \"\"\n",
        "i = len(s) - 1\n",
        "\n",
        "while i >= 0:\n",
        "    reversed_str += s[i]\n",
        "    i -= 1\n",
        "\n",
        "print(\"Reversed string:\", reversed_str)\n"
      ],
      "metadata": {
        "colab": {
          "base_uri": "https://localhost:8080/"
        },
        "id": "aMLYzLl7c7Ib",
        "outputId": "74a83a8c-5fae-4f2b-a099-e8c420f3c660"
      },
      "execution_count": 68,
      "outputs": [
        {
          "output_type": "stream",
          "name": "stdout",
          "text": [
            "Enter a string: priyam\n",
            "Reversed string: mayirp\n"
          ]
        }
      ]
    },
    {
      "cell_type": "code",
      "source": [
        "#15 Write a Python program to calculate the factorial of a number provided by the user using a while loop.\n",
        "\n",
        "\n",
        "\n",
        "num = int(input(\"Enter a number: \"))\n",
        "factorial = 1\n",
        "i = 1\n",
        "\n",
        "while i <= num:\n",
        "    factorial *= i\n",
        "    i += 1\n",
        "print(\"The factorial of \" + str(num) + \" is \" + str(factorial))"
      ],
      "metadata": {
        "colab": {
          "base_uri": "https://localhost:8080/"
        },
        "id": "a8VfCAFec7LF",
        "outputId": "4e0aa2a8-efba-41e2-8ce7-94b0c0b2ce12"
      },
      "execution_count": 71,
      "outputs": [
        {
          "output_type": "stream",
          "name": "stdout",
          "text": [
            "Enter a number: 6\n",
            "The factorial of 6 is 720\n"
          ]
        }
      ]
    },
    {
      "cell_type": "code",
      "source": [],
      "metadata": {
        "id": "1h-VzL42c7Of"
      },
      "execution_count": null,
      "outputs": []
    }
  ]
}